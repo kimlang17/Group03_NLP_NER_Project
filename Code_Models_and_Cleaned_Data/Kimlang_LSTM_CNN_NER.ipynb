{
  "nbformat": 4,
  "nbformat_minor": 0,
  "metadata": {
    "colab": {
      "provenance": []
    },
    "kernelspec": {
      "name": "python3",
      "display_name": "Python 3"
    },
    "language_info": {
      "name": "python"
    }
  },
  "cells": [
    {
      "cell_type": "code",
      "execution_count": 1,
      "metadata": {
        "id": "kELtlKqizDVG"
      },
      "outputs": [],
      "source": [
        "import pandas as pd\n",
        "# Load the data\n",
        "train_data = pd.read_csv(r\"data_train.csv\")\n",
        "dev_data = pd.read_csv(r\"data_dev.csv\")\n",
        "test_data = pd.read_csv(r\"data_test.csv\")"
      ]
    },
    {
      "cell_type": "code",
      "source": [
        "train_data.value_counts('label')"
      ],
      "metadata": {
        "colab": {
          "base_uri": "https://localhost:8080/",
          "height": 209
        },
        "id": "AaP5kQCtzetN",
        "outputId": "8bd69caa-cf4d-437d-bd81-8501b8b8eb6a"
      },
      "execution_count": 2,
      "outputs": [
        {
          "output_type": "execute_result",
          "data": {
            "text/plain": [
              "label\n",
              "O    20084\n",
              "I     3410\n",
              "B     3248\n",
              "Name: count, dtype: int64"
            ],
            "text/html": [
              "<div>\n",
              "<style scoped>\n",
              "    .dataframe tbody tr th:only-of-type {\n",
              "        vertical-align: middle;\n",
              "    }\n",
              "\n",
              "    .dataframe tbody tr th {\n",
              "        vertical-align: top;\n",
              "    }\n",
              "\n",
              "    .dataframe thead th {\n",
              "        text-align: right;\n",
              "    }\n",
              "</style>\n",
              "<table border=\"1\" class=\"dataframe\">\n",
              "  <thead>\n",
              "    <tr style=\"text-align: right;\">\n",
              "      <th></th>\n",
              "      <th>count</th>\n",
              "    </tr>\n",
              "    <tr>\n",
              "      <th>label</th>\n",
              "      <th></th>\n",
              "    </tr>\n",
              "  </thead>\n",
              "  <tbody>\n",
              "    <tr>\n",
              "      <th>O</th>\n",
              "      <td>20084</td>\n",
              "    </tr>\n",
              "    <tr>\n",
              "      <th>I</th>\n",
              "      <td>3410</td>\n",
              "    </tr>\n",
              "    <tr>\n",
              "      <th>B</th>\n",
              "      <td>3248</td>\n",
              "    </tr>\n",
              "  </tbody>\n",
              "</table>\n",
              "</div><br><label><b>dtype:</b> int64</label>"
            ]
          },
          "metadata": {},
          "execution_count": 2
        }
      ]
    },
    {
      "cell_type": "code",
      "source": [
        "dev_data.value_counts('label')"
      ],
      "metadata": {
        "colab": {
          "base_uri": "https://localhost:8080/",
          "height": 209
        },
        "id": "rc0ZkJavzgsu",
        "outputId": "5e7212cb-4fab-4f5a-bea7-83503026f017"
      },
      "execution_count": 3,
      "outputs": [
        {
          "output_type": "execute_result",
          "data": {
            "text/plain": [
              "label\n",
              "O    2499\n",
              "I     399\n",
              "B     394\n",
              "Name: count, dtype: int64"
            ],
            "text/html": [
              "<div>\n",
              "<style scoped>\n",
              "    .dataframe tbody tr th:only-of-type {\n",
              "        vertical-align: middle;\n",
              "    }\n",
              "\n",
              "    .dataframe tbody tr th {\n",
              "        vertical-align: top;\n",
              "    }\n",
              "\n",
              "    .dataframe thead th {\n",
              "        text-align: right;\n",
              "    }\n",
              "</style>\n",
              "<table border=\"1\" class=\"dataframe\">\n",
              "  <thead>\n",
              "    <tr style=\"text-align: right;\">\n",
              "      <th></th>\n",
              "      <th>count</th>\n",
              "    </tr>\n",
              "    <tr>\n",
              "      <th>label</th>\n",
              "      <th></th>\n",
              "    </tr>\n",
              "  </thead>\n",
              "  <tbody>\n",
              "    <tr>\n",
              "      <th>O</th>\n",
              "      <td>2499</td>\n",
              "    </tr>\n",
              "    <tr>\n",
              "      <th>I</th>\n",
              "      <td>399</td>\n",
              "    </tr>\n",
              "    <tr>\n",
              "      <th>B</th>\n",
              "      <td>394</td>\n",
              "    </tr>\n",
              "  </tbody>\n",
              "</table>\n",
              "</div><br><label><b>dtype:</b> int64</label>"
            ]
          },
          "metadata": {},
          "execution_count": 3
        }
      ]
    },
    {
      "cell_type": "code",
      "source": [
        "test_data.value_counts('label')"
      ],
      "metadata": {
        "colab": {
          "base_uri": "https://localhost:8080/",
          "height": 209
        },
        "id": "yo3-AoXTzm-Y",
        "outputId": "e9e8165d-6423-4232-9b24-98fe8bbc820a"
      },
      "execution_count": 4,
      "outputs": [
        {
          "output_type": "execute_result",
          "data": {
            "text/plain": [
              "label\n",
              "O    2972\n",
              "I     482\n",
              "B     445\n",
              "Name: count, dtype: int64"
            ],
            "text/html": [
              "<div>\n",
              "<style scoped>\n",
              "    .dataframe tbody tr th:only-of-type {\n",
              "        vertical-align: middle;\n",
              "    }\n",
              "\n",
              "    .dataframe tbody tr th {\n",
              "        vertical-align: top;\n",
              "    }\n",
              "\n",
              "    .dataframe thead th {\n",
              "        text-align: right;\n",
              "    }\n",
              "</style>\n",
              "<table border=\"1\" class=\"dataframe\">\n",
              "  <thead>\n",
              "    <tr style=\"text-align: right;\">\n",
              "      <th></th>\n",
              "      <th>count</th>\n",
              "    </tr>\n",
              "    <tr>\n",
              "      <th>label</th>\n",
              "      <th></th>\n",
              "    </tr>\n",
              "  </thead>\n",
              "  <tbody>\n",
              "    <tr>\n",
              "      <th>O</th>\n",
              "      <td>2972</td>\n",
              "    </tr>\n",
              "    <tr>\n",
              "      <th>I</th>\n",
              "      <td>482</td>\n",
              "    </tr>\n",
              "    <tr>\n",
              "      <th>B</th>\n",
              "      <td>445</td>\n",
              "    </tr>\n",
              "  </tbody>\n",
              "</table>\n",
              "</div><br><label><b>dtype:</b> int64</label>"
            ]
          },
          "metadata": {},
          "execution_count": 4
        }
      ]
    },
    {
      "cell_type": "code",
      "source": [
        "import pandas as pd\n",
        "\n",
        "def calculate_average_length(file_path):\n",
        "    # Load the data\n",
        "    data = pd.read_csv(file_path)\n",
        "\n",
        "    # Ensure columns are present\n",
        "    assert 'token' in data.columns, \"The file must contain a 'token' column.\"\n",
        "    assert 'label' in data.columns, \"The file must contain a 'label' column.\"\n",
        "\n",
        "    # List to store sentence lengths\n",
        "    sentence_lengths = []\n",
        "    current_sentence = []\n",
        "\n",
        "    # Sentence-ending punctuation\n",
        "    sentence_endings = [\".\", \"!\", \"?\"]\n",
        "\n",
        "    for token in data['token']:\n",
        "        current_sentence.append(token)\n",
        "        if token in sentence_endings:\n",
        "            sentence_lengths.append(len(current_sentence))  # Add sentence length\n",
        "            current_sentence = []  # Start a new sentence\n",
        "\n",
        "    # If there's a trailing sentence without an ending punctuation\n",
        "    if current_sentence:\n",
        "        sentence_lengths.append(len(current_sentence))\n",
        "\n",
        "    # Calculate the average length\n",
        "    average_length = sum(sentence_lengths) / len(sentence_lengths) if sentence_lengths else 0\n",
        "    return average_length\n",
        "\n",
        "# Paths to the CSV files\n",
        "train_file = \"data_train.csv\"\n",
        "dev_file = \"data_dev.csv\"\n",
        "test_file = \"data_test.csv\"\n",
        "\n",
        "# Calculate average lengths\n",
        "train_avg_length = calculate_average_length(train_file)\n",
        "dev_avg_length = calculate_average_length(dev_file)\n",
        "test_avg_length = calculate_average_length(test_file)\n",
        "\n",
        "print(f\"Average sentence length in train.csv: {train_avg_length:.2f} tokens\")\n",
        "print(f\"Average sentence length in dev.csv: {dev_avg_length:.2f} tokens\")\n",
        "print(f\"Average sentence length in test.csv: {test_avg_length:.2f} tokens\")"
      ],
      "metadata": {
        "colab": {
          "base_uri": "https://localhost:8080/"
        },
        "id": "tLVGK60Izpfo",
        "outputId": "a837c219-3f75-46a2-d94b-f92d41e40229"
      },
      "execution_count": 5,
      "outputs": [
        {
          "output_type": "stream",
          "name": "stdout",
          "text": [
            "Average sentence length in train.csv: 28.66 tokens\n",
            "Average sentence length in dev.csv: 27.90 tokens\n",
            "Average sentence length in test.csv: 28.88 tokens\n"
          ]
        }
      ]
    },
    {
      "cell_type": "code",
      "source": [
        "import pandas as pd\n",
        "\n",
        "def prepare_data_with_token_limit(df, max_tokens):\n",
        "    \"\"\"\n",
        "    Groups tokens and labels into sentences with a maximum token limit,\n",
        "    ensuring no sentence ends with an incomplete entity.\n",
        "\n",
        "    Args:\n",
        "        df (pd.DataFrame): Dataframe with columns 'token', 'label', and 'token length'.\n",
        "        max_tokens (int): Maximum number of tokens allowed in a sentence.\n",
        "\n",
        "    Returns:\n",
        "        sentences (list of list of str): List of tokenized sentences.\n",
        "        labels (list of list of str): List of BIO-tagged label sequences.\n",
        "    \"\"\"\n",
        "    sentences = []\n",
        "    labels = []\n",
        "    current_sentence = []\n",
        "    current_labels = []\n",
        "\n",
        "    for i, row in df.iterrows():\n",
        "        token, label = row[\"token\"], row[\"label\"]\n",
        "\n",
        "        # Add token and label to the current sentence\n",
        "        current_sentence.append(token)\n",
        "        current_labels.append(label)\n",
        "\n",
        "        # Check if we reached the max token limit\n",
        "        if len(current_sentence) >= max_tokens:\n",
        "            # Check if the last token ends with 'B' or 'I'\n",
        "            if label.startswith(\"I\") or label.startswith(\"B\"):\n",
        "                # Add the next token to complete the entity (if available)\n",
        "                if i + 1 < len(df):\n",
        "                    next_row = df.iloc[i + 1]\n",
        "                    current_sentence.append(next_row[\"token\"])\n",
        "                    current_labels.append(next_row[\"label\"])\n",
        "\n",
        "            # Save the current sentence and reset\n",
        "            sentences.append(current_sentence)\n",
        "            labels.append(current_labels)\n",
        "            current_sentence = []\n",
        "            current_labels = []\n",
        "\n",
        "    # Add the last sentence if present\n",
        "    if current_sentence:\n",
        "        sentences.append(current_sentence)\n",
        "        labels.append(current_labels)\n",
        "\n",
        "    return sentences, labels\n",
        "\n",
        "# Example usage\n",
        "train_data = pd.read_csv(\"data_train.csv\")\n",
        "max_tokens = 30  # Define your max token limit\n",
        "train_sentences, train_labels = prepare_data_with_token_limit(train_data, max_tokens)\n",
        "\n",
        "# Display the first few sentences and labels\n",
        "print(\"First sentence tokens:\", train_sentences[0])\n",
        "print(\"First sentence labels:\", train_labels[0])"
      ],
      "metadata": {
        "colab": {
          "base_uri": "https://localhost:8080/"
        },
        "id": "346wGaY0zsD9",
        "outputId": "fa1e7df6-bfb9-4454-96be-e5461dae84fd"
      },
      "execution_count": 6,
      "outputs": [
        {
          "output_type": "stream",
          "name": "stdout",
          "text": [
            "First sentence tokens: ['In', 'this', 'article', 'we', 'discuss', 'several', 'metrics', 'of', 'coherence', 'defined', 'using', 'centering', 'theory', 'and', 'investigate', 'the', 'usefulness', 'of', 'such', 'metrics', 'for', 'information', 'ordering', 'in', 'automatic', 'text', 'generation', '.', 'We', 'estimate']\n",
            "First sentence labels: ['O', 'O', 'O', 'O', 'O', 'O', 'B', 'I', 'I', 'O', 'O', 'B', 'I', 'O', 'O', 'O', 'O', 'O', 'O', 'B', 'O', 'O', 'O', 'O', 'B', 'I', 'I', 'O', 'O', 'O']\n"
          ]
        }
      ]
    },
    {
      "cell_type": "code",
      "source": [
        "dev_sentences, dev_labels = prepare_data_with_token_limit(dev_data, max_tokens)\n",
        "test_sentences, test_labels = prepare_data_with_token_limit(test_data, max_tokens)"
      ],
      "metadata": {
        "id": "PWhqZpy_zvj0"
      },
      "execution_count": 7,
      "outputs": []
    },
    {
      "cell_type": "code",
      "source": [
        "print(len(train_sentences))\n",
        "print(len(dev_sentences))\n",
        "print(len(test_sentences))"
      ],
      "metadata": {
        "colab": {
          "base_uri": "https://localhost:8080/"
        },
        "id": "aytymZZAzxSf",
        "outputId": "8dfb5861-ff42-4488-c4dc-1155be33ecbc"
      },
      "execution_count": 8,
      "outputs": [
        {
          "output_type": "stream",
          "name": "stdout",
          "text": [
            "892\n",
            "110\n",
            "130\n"
          ]
        }
      ]
    },
    {
      "cell_type": "code",
      "source": [
        "unique_labels = sorted(set(label for labels in train_labels for label in labels))\n",
        "label_to_id = {label: i for i, label in enumerate(unique_labels)}\n",
        "id_to_label = {i: label for label, i in label_to_id.items()}"
      ],
      "metadata": {
        "id": "1P4A3QDNzy79"
      },
      "execution_count": 9,
      "outputs": []
    },
    {
      "cell_type": "markdown",
      "source": [
        "# LSTM_CNN"
      ],
      "metadata": {
        "id": "NNKpmdRxz25Z"
      }
    },
    {
      "cell_type": "code",
      "source": [
        "from sklearn.preprocessing import LabelEncoder\n",
        "from tensorflow.keras.preprocessing.text import Tokenizer\n",
        "from tensorflow.keras.utils import pad_sequences, to_categorical\n",
        "\n",
        "def encode_data(sentences, labels, max_tokens):\n",
        "    \"\"\"\n",
        "    Encode tokens and labels for Bi-LSTM processing.\n",
        "\n",
        "    Args:\n",
        "        sentences (list of list of str): Tokenized sentences.\n",
        "        labels (list of list of str): BIO-tagged label sequences.\n",
        "        max_tokens (int): Maximum number of tokens per sequence.\n",
        "\n",
        "    Returns:\n",
        "        X (np.array): Encoded sentences (padded sequences of integers).\n",
        "        y (np.array): Encoded labels (padded sequences of integers).\n",
        "    \"\"\"\n",
        "    # Tokenizer for converting words to integers\n",
        "    tokenizer = Tokenizer(lower=False, oov_token=\"<OOV>\")\n",
        "    tokenizer.fit_on_texts(sentences)\n",
        "    X = tokenizer.texts_to_sequences(sentences)\n",
        "    X = pad_sequences(X, maxlen=max_tokens, padding=\"post\", truncating=\"post\")\n",
        "\n",
        "    # Label encoding for BIO labels\n",
        "    label_encoder = LabelEncoder()\n",
        "    all_labels = [label for seq in labels for label in seq]\n",
        "    label_encoder.fit(all_labels)\n",
        "\n",
        "    y = [[label_encoder.transform([label])[0] for label in seq] for seq in labels]\n",
        "    y = pad_sequences(y, maxlen=max_tokens, padding=\"post\", truncating=\"post\")\n",
        "    y = to_categorical(y, num_classes=len(label_encoder.classes_))\n",
        "\n",
        "    return X, y, tokenizer, label_encoder"
      ],
      "metadata": {
        "id": "aIXZMLDPz0Kx"
      },
      "execution_count": 10,
      "outputs": []
    },
    {
      "cell_type": "code",
      "source": [
        "# Load your training data\n",
        "train_data = pd.read_csv(\"data_train.csv\")\n",
        "\n",
        "# Define max tokens\n",
        "max_tokens = 30\n",
        "\n",
        "# Prepare train sentences and labels\n",
        "train_sentences, train_labels = prepare_data_with_token_limit(train_data, max_tokens)\n",
        "\n",
        "# Encode the data\n",
        "X_train, y_train, tokenizer, label_encoder = encode_data(train_sentences, train_labels, max_tokens)\n",
        "\n",
        "# Display shapes\n",
        "print(\"Shape of X_train:\", X_train.shape)\n",
        "print(\"Shape of y_train:\", y_train.shape)"
      ],
      "metadata": {
        "colab": {
          "base_uri": "https://localhost:8080/"
        },
        "id": "eV8ptBNVz8J9",
        "outputId": "7cb8774f-831b-4cd1-b78f-13dc4dd20d63"
      },
      "execution_count": 11,
      "outputs": [
        {
          "output_type": "stream",
          "name": "stdout",
          "text": [
            "Shape of X_train: (892, 30)\n",
            "Shape of y_train: (892, 30, 3)\n"
          ]
        }
      ]
    },
    {
      "cell_type": "code",
      "source": [
        "# Load your dev data\n",
        "dev_data = pd.read_csv(\"data_dev.csv\")\n",
        "\n",
        "# Define max tokens\n",
        "max_tokens = 30\n",
        "\n",
        "# Prepare dev sentences and labels\n",
        "dev_sentences, dev_labels = prepare_data_with_token_limit(dev_data, max_tokens)\n",
        "\n",
        "# Encode the data\n",
        "X_dev, y_dev, tokenizer, label_encoder = encode_data(dev_sentences, dev_labels, max_tokens)\n",
        "\n",
        "# Display shapes\n",
        "print(\"Shape of X_dev:\", X_dev.shape)\n",
        "print(\"Shape of y_dev:\", y_dev.shape)"
      ],
      "metadata": {
        "colab": {
          "base_uri": "https://localhost:8080/"
        },
        "id": "SPTY7QS8z9fx",
        "outputId": "b9998b22-5c07-45ea-a31e-7a77fb4754c0"
      },
      "execution_count": 12,
      "outputs": [
        {
          "output_type": "stream",
          "name": "stdout",
          "text": [
            "Shape of X_dev: (110, 30)\n",
            "Shape of y_dev: (110, 30, 3)\n"
          ]
        }
      ]
    },
    {
      "cell_type": "code",
      "source": [
        "# Load your test data\n",
        "test_data = pd.read_csv(\"data_test.csv\")\n",
        "\n",
        "# Define max tokens\n",
        "max_tokens = 30\n",
        "\n",
        "# Prepare test sentences and labels\n",
        "test_sentences, test_labels = prepare_data_with_token_limit(test_data, max_tokens)\n",
        "\n",
        "# Encode the data\n",
        "X_test, y_test, tokenizer, label_encoder = encode_data(test_sentences, test_labels, max_tokens)\n",
        "\n",
        "# Display shapes\n",
        "print(\"Shape of X_test:\", X_test.shape)\n",
        "print(\"Shape of y_test:\", y_test.shape)"
      ],
      "metadata": {
        "colab": {
          "base_uri": "https://localhost:8080/"
        },
        "id": "vZ1JDFlOz_IU",
        "outputId": "92688073-cbb1-408d-ac3e-b5faf24d2c9e"
      },
      "execution_count": 13,
      "outputs": [
        {
          "output_type": "stream",
          "name": "stdout",
          "text": [
            "Shape of X_test: (130, 30)\n",
            "Shape of y_test: (130, 30, 3)\n"
          ]
        }
      ]
    },
    {
      "cell_type": "code",
      "source": [
        "import pandas as pd\n",
        "import numpy as np\n",
        "from tensorflow.keras.preprocessing.sequence import pad_sequences\n",
        "from sklearn.preprocessing import LabelEncoder\n",
        "\n",
        "def build_vocab_from_dataset(file_paths):\n",
        "    \"\"\"\n",
        "    Build a vocabulary dictionary from dataset files.\n",
        "\n",
        "    Args:\n",
        "        file_paths (list of str): List of file paths to CSV datasets.\n",
        "\n",
        "    Returns:\n",
        "        vocab (dict): Dictionary mapping tokens to indices.\n",
        "    \"\"\"\n",
        "    unique_tokens = set()\n",
        "    for file_path in file_paths:\n",
        "        df = pd.read_csv(file_path)\n",
        "        unique_tokens.update(df[\"token\"].unique())\n",
        "\n",
        "    # Add special tokens\n",
        "    vocab = {\"[PAD]\": 0, \"[UNK]\": 1}  # 0 for padding, 1 for unknown tokens\n",
        "    for i, token in enumerate(sorted(unique_tokens), start=2):\n",
        "        vocab[token] = i\n",
        "\n",
        "    return vocab\n",
        "\n",
        "def prepare_data_for_bilstm_crf(file_path, vocab, label_encoder, max_seq_length):\n",
        "    \"\"\"\n",
        "    Prepare token and label data from a CSV file for BiLSTM + CRF.\n",
        "\n",
        "    Args:\n",
        "        file_path (str): Path to the CSV file containing 'token' and 'label' columns.\n",
        "        vocab (dict): Dictionary mapping tokens to indices.\n",
        "        label_encoder (LabelEncoder): Fitted LabelEncoder instance for label encoding.\n",
        "        max_seq_length (int): Maximum sequence length for padding.\n",
        "\n",
        "    Returns:\n",
        "        token_sequences (np.array): Padded token sequences.\n",
        "        label_sequences (np.array): Padded label sequences.\n",
        "    \"\"\"\n",
        "    # Load CSV into a DataFrame\n",
        "    df = pd.read_csv(file_path)\n",
        "\n",
        "    # Convert tokens and labels to indices\n",
        "    token_indices = [vocab.get(token, vocab[\"[UNK]\"]) for token in df[\"token\"]]\n",
        "    label_indices = label_encoder.transform(df[\"label\"])\n",
        "\n",
        "    # Group into sentences based on sentence-ending tokens (\".\", \"!\", \"?\")\n",
        "    sentences = []\n",
        "    sentence_labels = []\n",
        "    current_tokens = []\n",
        "    current_labels = []\n",
        "\n",
        "    for token, label in zip(token_indices, label_indices):\n",
        "        current_tokens.append(token)\n",
        "        current_labels.append(label)\n",
        "\n",
        "        # Check for sentence-ending punctuation\n",
        "        if token in [vocab.get(\".\"), vocab.get(\"!\"), vocab.get(\"?\")]:\n",
        "            sentences.append(current_tokens)\n",
        "            sentence_labels.append(current_labels)\n",
        "            current_tokens = []\n",
        "            current_labels = []\n",
        "\n",
        "    # Add the last sentence if it's non-empty\n",
        "    if current_tokens:\n",
        "        sentences.append(current_tokens)\n",
        "        sentence_labels.append(current_labels)\n",
        "\n",
        "    # Pad sequences to the maximum sequence length\n",
        "    token_sequences = pad_sequences(sentences, maxlen=max_seq_length, padding=\"post\", value=vocab[\"[PAD]\"])\n",
        "    label_sequences = pad_sequences(sentence_labels, maxlen=max_seq_length, padding=\"post\", value=label_encoder.transform([\"[PAD]\"])[0])\n",
        "\n",
        "    return np.array(token_sequences), np.array(label_sequences)\n",
        "\n",
        "# Example usage\n",
        "train_path = \"data_train.csv\"\n",
        "dev_path = \"data_dev.csv\"\n",
        "test_path = \"data_test.csv\"\n",
        "file_paths = [train_path, dev_path, test_path]\n",
        "\n",
        "# Step 1: Build vocabulary\n",
        "vocab = build_vocab_from_dataset(file_paths)\n",
        "\n",
        "# Step 2: Create and fit LabelEncoder\n",
        "df_train = pd.read_csv(train_path)\n",
        "label_encoder = LabelEncoder()\n",
        "label_encoder.fit(df_train[\"label\"].unique().tolist() + [\"[PAD]\"])  # Include padding label\n",
        "\n",
        "# Step 3: Prepare data\n",
        "max_seq_length = 30  # Adjust based on your dataset and model\n",
        "train_tokens, train_labels = prepare_data_for_bilstm_crf(train_path, vocab, label_encoder, max_seq_length)\n",
        "dev_tokens, dev_labels = prepare_data_for_bilstm_crf(dev_path, vocab, label_encoder, max_seq_length)\n",
        "test_tokens, test_labels = prepare_data_for_bilstm_crf(test_path, vocab, label_encoder, max_seq_length)\n",
        "\n",
        "# Step 4: Display prepared data\n",
        "print(\"Vocabulary size:\", len(vocab))\n",
        "print(\"Label classes:\", label_encoder.classes_)\n",
        "print(\"Train tokens shape:\", train_tokens.shape)\n",
        "print(\"Train labels shape:\", train_labels.shape)"
      ],
      "metadata": {
        "colab": {
          "base_uri": "https://localhost:8080/"
        },
        "id": "iGetpScM0ROY",
        "outputId": "ee62ff47-0b37-42e0-b8d5-7693341813b9"
      },
      "execution_count": 15,
      "outputs": [
        {
          "output_type": "stream",
          "name": "stdout",
          "text": [
            "Vocabulary size: 4373\n",
            "Label classes: ['B' 'I' 'O' '[PAD]']\n",
            "Train tokens shape: (933, 30)\n",
            "Train labels shape: (933, 30)\n"
          ]
        }
      ]
    },
    {
      "cell_type": "code",
      "source": [
        "from tensorflow.keras.layers import Conv1D, MaxPooling1D, LSTM, TimeDistributed, Dense, Embedding\n",
        "from tensorflow.keras.models import Sequential\n",
        "from tensorflow.keras.optimizers import Adam\n",
        "\n",
        "def build_lstm_cnn_model(vocab_size, num_classes, max_tokens, embedding_dim=128, lstm_units=128, cnn_filters=64, kernel_size=3):\n",
        "    \"\"\"\n",
        "    Build an LSTM + CNN model for NER.\n",
        "\n",
        "    Args:\n",
        "        vocab_size (int): Size of the vocabulary.\n",
        "        num_classes (int): Number of output classes (BIO tags).\n",
        "        max_tokens (int): Maximum sequence length.\n",
        "        embedding_dim (int): Dimension of the embedding layer.\n",
        "        lstm_units (int): Number of LSTM units.\n",
        "        cnn_filters (int): Number of filters for the CNN layer.\n",
        "        kernel_size (int): Size of the convolutional kernel.\n",
        "\n",
        "    Returns:\n",
        "        model (keras.Model): Compiled LSTM + CNN model.\n",
        "    \"\"\"\n",
        "    model = Sequential()\n",
        "    model.add(Embedding(input_dim=vocab_size, output_dim=embedding_dim, input_length=max_tokens))\n",
        "\n",
        "    # Add Convolutional Layer\n",
        "    model.add(Conv1D(filters=cnn_filters, kernel_size=kernel_size, activation='relu', padding='same'))  # 'same' padding to maintain sequence length\n",
        "    # Remove MaxPooling1D to avoid sequence length reduction\n",
        "\n",
        "    # Add LSTM Layer\n",
        "    model.add(LSTM(units=lstm_units, return_sequences=True))\n",
        "\n",
        "    # TimeDistributed Dense Layer for BIO tags\n",
        "    model.add(TimeDistributed(Dense(units=num_classes, activation=\"softmax\")))\n",
        "\n",
        "    model.compile(optimizer=Adam(learning_rate=0.001), loss=\"categorical_crossentropy\", metrics=[\"accuracy\"])\n",
        "    return model\n",
        "\n",
        "# Build and compile the LSTM + CNN model\n",
        "vocab_size = len(vocab)\n",
        "num_classes = len(label_encoder.classes_) -1\n",
        "max_tokens = 30\n",
        "\n",
        "lstm_cnn_model = build_lstm_cnn_model(vocab_size, num_classes, max_tokens)\n",
        "\n",
        "# Display model summary\n",
        "lstm_cnn_model.summary()"
      ],
      "metadata": {
        "colab": {
          "base_uri": "https://localhost:8080/",
          "height": 257
        },
        "id": "oPYR4FXu0Aey",
        "outputId": "4a094b98-4865-4c9a-f50d-0400c20a9ed0"
      },
      "execution_count": 20,
      "outputs": [
        {
          "output_type": "display_data",
          "data": {
            "text/plain": [
              "\u001b[1mModel: \"sequential_2\"\u001b[0m\n"
            ],
            "text/html": [
              "<pre style=\"white-space:pre;overflow-x:auto;line-height:normal;font-family:Menlo,'DejaVu Sans Mono',consolas,'Courier New',monospace\"><span style=\"font-weight: bold\">Model: \"sequential_2\"</span>\n",
              "</pre>\n"
            ]
          },
          "metadata": {}
        },
        {
          "output_type": "display_data",
          "data": {
            "text/plain": [
              "┏━━━━━━━━━━━━━━━━━━━━━━━━━━━━━━━━━━━━━━┳━━━━━━━━━━━━━━━━━━━━━━━━━━━━━┳━━━━━━━━━━━━━━━━━┓\n",
              "┃\u001b[1m \u001b[0m\u001b[1mLayer (type)                        \u001b[0m\u001b[1m \u001b[0m┃\u001b[1m \u001b[0m\u001b[1mOutput Shape               \u001b[0m\u001b[1m \u001b[0m┃\u001b[1m \u001b[0m\u001b[1m        Param #\u001b[0m\u001b[1m \u001b[0m┃\n",
              "┡━━━━━━━━━━━━━━━━━━━━━━━━━━━━━━━━━━━━━━╇━━━━━━━━━━━━━━━━━━━━━━━━━━━━━╇━━━━━━━━━━━━━━━━━┩\n",
              "│ embedding_2 (\u001b[38;5;33mEmbedding\u001b[0m)              │ ?                           │     \u001b[38;5;34m0\u001b[0m (unbuilt) │\n",
              "├──────────────────────────────────────┼─────────────────────────────┼─────────────────┤\n",
              "│ conv1d_2 (\u001b[38;5;33mConv1D\u001b[0m)                    │ ?                           │     \u001b[38;5;34m0\u001b[0m (unbuilt) │\n",
              "├──────────────────────────────────────┼─────────────────────────────┼─────────────────┤\n",
              "│ lstm_2 (\u001b[38;5;33mLSTM\u001b[0m)                        │ ?                           │     \u001b[38;5;34m0\u001b[0m (unbuilt) │\n",
              "├──────────────────────────────────────┼─────────────────────────────┼─────────────────┤\n",
              "│ time_distributed_2 (\u001b[38;5;33mTimeDistributed\u001b[0m) │ ?                           │     \u001b[38;5;34m0\u001b[0m (unbuilt) │\n",
              "└──────────────────────────────────────┴─────────────────────────────┴─────────────────┘\n"
            ],
            "text/html": [
              "<pre style=\"white-space:pre;overflow-x:auto;line-height:normal;font-family:Menlo,'DejaVu Sans Mono',consolas,'Courier New',monospace\">┏━━━━━━━━━━━━━━━━━━━━━━━━━━━━━━━━━━━━━━┳━━━━━━━━━━━━━━━━━━━━━━━━━━━━━┳━━━━━━━━━━━━━━━━━┓\n",
              "┃<span style=\"font-weight: bold\"> Layer (type)                         </span>┃<span style=\"font-weight: bold\"> Output Shape                </span>┃<span style=\"font-weight: bold\">         Param # </span>┃\n",
              "┡━━━━━━━━━━━━━━━━━━━━━━━━━━━━━━━━━━━━━━╇━━━━━━━━━━━━━━━━━━━━━━━━━━━━━╇━━━━━━━━━━━━━━━━━┩\n",
              "│ embedding_2 (<span style=\"color: #0087ff; text-decoration-color: #0087ff\">Embedding</span>)              │ ?                           │     <span style=\"color: #00af00; text-decoration-color: #00af00\">0</span> (unbuilt) │\n",
              "├──────────────────────────────────────┼─────────────────────────────┼─────────────────┤\n",
              "│ conv1d_2 (<span style=\"color: #0087ff; text-decoration-color: #0087ff\">Conv1D</span>)                    │ ?                           │     <span style=\"color: #00af00; text-decoration-color: #00af00\">0</span> (unbuilt) │\n",
              "├──────────────────────────────────────┼─────────────────────────────┼─────────────────┤\n",
              "│ lstm_2 (<span style=\"color: #0087ff; text-decoration-color: #0087ff\">LSTM</span>)                        │ ?                           │     <span style=\"color: #00af00; text-decoration-color: #00af00\">0</span> (unbuilt) │\n",
              "├──────────────────────────────────────┼─────────────────────────────┼─────────────────┤\n",
              "│ time_distributed_2 (<span style=\"color: #0087ff; text-decoration-color: #0087ff\">TimeDistributed</span>) │ ?                           │     <span style=\"color: #00af00; text-decoration-color: #00af00\">0</span> (unbuilt) │\n",
              "└──────────────────────────────────────┴─────────────────────────────┴─────────────────┘\n",
              "</pre>\n"
            ]
          },
          "metadata": {}
        },
        {
          "output_type": "display_data",
          "data": {
            "text/plain": [
              "\u001b[1m Total params: \u001b[0m\u001b[38;5;34m0\u001b[0m (0.00 B)\n"
            ],
            "text/html": [
              "<pre style=\"white-space:pre;overflow-x:auto;line-height:normal;font-family:Menlo,'DejaVu Sans Mono',consolas,'Courier New',monospace\"><span style=\"font-weight: bold\"> Total params: </span><span style=\"color: #00af00; text-decoration-color: #00af00\">0</span> (0.00 B)\n",
              "</pre>\n"
            ]
          },
          "metadata": {}
        },
        {
          "output_type": "display_data",
          "data": {
            "text/plain": [
              "\u001b[1m Trainable params: \u001b[0m\u001b[38;5;34m0\u001b[0m (0.00 B)\n"
            ],
            "text/html": [
              "<pre style=\"white-space:pre;overflow-x:auto;line-height:normal;font-family:Menlo,'DejaVu Sans Mono',consolas,'Courier New',monospace\"><span style=\"font-weight: bold\"> Trainable params: </span><span style=\"color: #00af00; text-decoration-color: #00af00\">0</span> (0.00 B)\n",
              "</pre>\n"
            ]
          },
          "metadata": {}
        },
        {
          "output_type": "display_data",
          "data": {
            "text/plain": [
              "\u001b[1m Non-trainable params: \u001b[0m\u001b[38;5;34m0\u001b[0m (0.00 B)\n"
            ],
            "text/html": [
              "<pre style=\"white-space:pre;overflow-x:auto;line-height:normal;font-family:Menlo,'DejaVu Sans Mono',consolas,'Courier New',monospace\"><span style=\"font-weight: bold\"> Non-trainable params: </span><span style=\"color: #00af00; text-decoration-color: #00af00\">0</span> (0.00 B)\n",
              "</pre>\n"
            ]
          },
          "metadata": {}
        }
      ]
    },
    {
      "cell_type": "code",
      "source": [
        "history_lstm_cnn = lstm_cnn_model.fit(\n",
        "    x=X_train,\n",
        "    y=y_train,\n",
        "    validation_data=(X_dev, y_dev),\n",
        "    batch_size=16,\n",
        "    epochs=30\n",
        ")"
      ],
      "metadata": {
        "colab": {
          "base_uri": "https://localhost:8080/"
        },
        "id": "acOqipGb0Eqw",
        "outputId": "31f692e9-6a6f-4090-cfc9-9ff7b9cc8757"
      },
      "execution_count": 21,
      "outputs": [
        {
          "output_type": "stream",
          "name": "stdout",
          "text": [
            "Epoch 1/30\n",
            "\u001b[1m56/56\u001b[0m \u001b[32m━━━━━━━━━━━━━━━━━━━━\u001b[0m\u001b[37m\u001b[0m \u001b[1m8s\u001b[0m 51ms/step - accuracy: 0.7122 - loss: 0.8584 - val_accuracy: 0.7348 - val_loss: 0.8114\n",
            "Epoch 2/30\n",
            "\u001b[1m56/56\u001b[0m \u001b[32m━━━━━━━━━━━━━━━━━━━━\u001b[0m\u001b[37m\u001b[0m \u001b[1m4s\u001b[0m 34ms/step - accuracy: 0.8050 - loss: 0.4588 - val_accuracy: 0.6470 - val_loss: 1.2504\n",
            "Epoch 3/30\n",
            "\u001b[1m56/56\u001b[0m \u001b[32m━━━━━━━━━━━━━━━━━━━━\u001b[0m\u001b[37m\u001b[0m \u001b[1m4s\u001b[0m 56ms/step - accuracy: 0.9005 - loss: 0.2655 - val_accuracy: 0.6433 - val_loss: 1.3254\n",
            "Epoch 4/30\n",
            "\u001b[1m56/56\u001b[0m \u001b[32m━━━━━━━━━━━━━━━━━━━━\u001b[0m\u001b[37m\u001b[0m \u001b[1m4s\u001b[0m 35ms/step - accuracy: 0.9231 - loss: 0.2048 - val_accuracy: 0.6542 - val_loss: 1.3933\n",
            "Epoch 5/30\n",
            "\u001b[1m56/56\u001b[0m \u001b[32m━━━━━━━━━━━━━━━━━━━━\u001b[0m\u001b[37m\u001b[0m \u001b[1m2s\u001b[0m 34ms/step - accuracy: 0.9363 - loss: 0.1662 - val_accuracy: 0.6448 - val_loss: 1.5045\n",
            "Epoch 6/30\n",
            "\u001b[1m56/56\u001b[0m \u001b[32m━━━━━━━━━━━━━━━━━━━━\u001b[0m\u001b[37m\u001b[0m \u001b[1m2s\u001b[0m 34ms/step - accuracy: 0.9460 - loss: 0.1443 - val_accuracy: 0.6518 - val_loss: 1.6450\n",
            "Epoch 7/30\n",
            "\u001b[1m56/56\u001b[0m \u001b[32m━━━━━━━━━━━━━━━━━━━━\u001b[0m\u001b[37m\u001b[0m \u001b[1m3s\u001b[0m 40ms/step - accuracy: 0.9573 - loss: 0.1191 - val_accuracy: 0.6373 - val_loss: 1.7778\n",
            "Epoch 8/30\n",
            "\u001b[1m56/56\u001b[0m \u001b[32m━━━━━━━━━━━━━━━━━━━━\u001b[0m\u001b[37m\u001b[0m \u001b[1m3s\u001b[0m 52ms/step - accuracy: 0.9612 - loss: 0.1109 - val_accuracy: 0.6627 - val_loss: 1.8773\n",
            "Epoch 9/30\n",
            "\u001b[1m56/56\u001b[0m \u001b[32m━━━━━━━━━━━━━━━━━━━━\u001b[0m\u001b[37m\u001b[0m \u001b[1m4s\u001b[0m 34ms/step - accuracy: 0.9686 - loss: 0.0923 - val_accuracy: 0.6506 - val_loss: 2.0604\n",
            "Epoch 10/30\n",
            "\u001b[1m56/56\u001b[0m \u001b[32m━━━━━━━━━━━━━━━━━━━━\u001b[0m\u001b[37m\u001b[0m \u001b[1m3s\u001b[0m 34ms/step - accuracy: 0.9725 - loss: 0.0782 - val_accuracy: 0.6412 - val_loss: 2.1404\n",
            "Epoch 11/30\n",
            "\u001b[1m56/56\u001b[0m \u001b[32m━━━━━━━━━━━━━━━━━━━━\u001b[0m\u001b[37m\u001b[0m \u001b[1m3s\u001b[0m 34ms/step - accuracy: 0.9788 - loss: 0.0621 - val_accuracy: 0.6497 - val_loss: 2.2629\n",
            "Epoch 12/30\n",
            "\u001b[1m56/56\u001b[0m \u001b[32m━━━━━━━━━━━━━━━━━━━━\u001b[0m\u001b[37m\u001b[0m \u001b[1m4s\u001b[0m 59ms/step - accuracy: 0.9812 - loss: 0.0546 - val_accuracy: 0.6485 - val_loss: 2.4290\n",
            "Epoch 13/30\n",
            "\u001b[1m56/56\u001b[0m \u001b[32m━━━━━━━━━━━━━━━━━━━━\u001b[0m\u001b[37m\u001b[0m \u001b[1m5s\u001b[0m 49ms/step - accuracy: 0.9850 - loss: 0.0453 - val_accuracy: 0.6482 - val_loss: 2.5555\n",
            "Epoch 14/30\n",
            "\u001b[1m56/56\u001b[0m \u001b[32m━━━━━━━━━━━━━━━━━━━━\u001b[0m\u001b[37m\u001b[0m \u001b[1m2s\u001b[0m 44ms/step - accuracy: 0.9878 - loss: 0.0398 - val_accuracy: 0.6421 - val_loss: 2.6705\n",
            "Epoch 15/30\n",
            "\u001b[1m56/56\u001b[0m \u001b[32m━━━━━━━━━━━━━━━━━━━━\u001b[0m\u001b[37m\u001b[0m \u001b[1m3s\u001b[0m 46ms/step - accuracy: 0.9872 - loss: 0.0383 - val_accuracy: 0.6770 - val_loss: 2.7213\n",
            "Epoch 16/30\n",
            "\u001b[1m56/56\u001b[0m \u001b[32m━━━━━━━━━━━━━━━━━━━━\u001b[0m\u001b[37m\u001b[0m \u001b[1m4s\u001b[0m 34ms/step - accuracy: 0.9885 - loss: 0.0342 - val_accuracy: 0.6364 - val_loss: 2.8682\n",
            "Epoch 17/30\n",
            "\u001b[1m56/56\u001b[0m \u001b[32m━━━━━━━━━━━━━━━━━━━━\u001b[0m\u001b[37m\u001b[0m \u001b[1m3s\u001b[0m 49ms/step - accuracy: 0.9912 - loss: 0.0268 - val_accuracy: 0.6415 - val_loss: 2.9331\n",
            "Epoch 18/30\n",
            "\u001b[1m56/56\u001b[0m \u001b[32m━━━━━━━━━━━━━━━━━━━━\u001b[0m\u001b[37m\u001b[0m \u001b[1m4s\u001b[0m 37ms/step - accuracy: 0.9933 - loss: 0.0201 - val_accuracy: 0.6427 - val_loss: 3.0309\n",
            "Epoch 19/30\n",
            "\u001b[1m56/56\u001b[0m \u001b[32m━━━━━━━━━━━━━━━━━━━━\u001b[0m\u001b[37m\u001b[0m \u001b[1m4s\u001b[0m 55ms/step - accuracy: 0.9943 - loss: 0.0185 - val_accuracy: 0.6503 - val_loss: 3.1268\n",
            "Epoch 20/30\n",
            "\u001b[1m56/56\u001b[0m \u001b[32m━━━━━━━━━━━━━━━━━━━━\u001b[0m\u001b[37m\u001b[0m \u001b[1m4s\u001b[0m 33ms/step - accuracy: 0.9954 - loss: 0.0158 - val_accuracy: 0.6491 - val_loss: 3.2443\n",
            "Epoch 21/30\n",
            "\u001b[1m56/56\u001b[0m \u001b[32m━━━━━━━━━━━━━━━━━━━━\u001b[0m\u001b[37m\u001b[0m \u001b[1m2s\u001b[0m 33ms/step - accuracy: 0.9964 - loss: 0.0115 - val_accuracy: 0.6491 - val_loss: 3.3345\n",
            "Epoch 22/30\n",
            "\u001b[1m56/56\u001b[0m \u001b[32m━━━━━━━━━━━━━━━━━━━━\u001b[0m\u001b[37m\u001b[0m \u001b[1m3s\u001b[0m 34ms/step - accuracy: 0.9970 - loss: 0.0098 - val_accuracy: 0.6555 - val_loss: 3.3663\n",
            "Epoch 23/30\n",
            "\u001b[1m56/56\u001b[0m \u001b[32m━━━━━━━━━━━━━━━━━━━━\u001b[0m\u001b[37m\u001b[0m \u001b[1m4s\u001b[0m 69ms/step - accuracy: 0.9968 - loss: 0.0098 - val_accuracy: 0.6545 - val_loss: 3.4585\n",
            "Epoch 24/30\n",
            "\u001b[1m56/56\u001b[0m \u001b[32m━━━━━━━━━━━━━━━━━━━━\u001b[0m\u001b[37m\u001b[0m \u001b[1m3s\u001b[0m 47ms/step - accuracy: 0.9966 - loss: 0.0104 - val_accuracy: 0.6400 - val_loss: 3.5775\n",
            "Epoch 25/30\n",
            "\u001b[1m56/56\u001b[0m \u001b[32m━━━━━━━━━━━━━━━━━━━━\u001b[0m\u001b[37m\u001b[0m \u001b[1m3s\u001b[0m 50ms/step - accuracy: 0.9977 - loss: 0.0096 - val_accuracy: 0.6518 - val_loss: 3.5584\n",
            "Epoch 26/30\n",
            "\u001b[1m56/56\u001b[0m \u001b[32m━━━━━━━━━━━━━━━━━━━━\u001b[0m\u001b[37m\u001b[0m \u001b[1m5s\u001b[0m 41ms/step - accuracy: 0.9981 - loss: 0.0073 - val_accuracy: 0.6442 - val_loss: 3.6808\n",
            "Epoch 27/30\n",
            "\u001b[1m56/56\u001b[0m \u001b[32m━━━━━━━━━━━━━━━━━━━━\u001b[0m\u001b[37m\u001b[0m \u001b[1m3s\u001b[0m 53ms/step - accuracy: 0.9981 - loss: 0.0071 - val_accuracy: 0.6458 - val_loss: 3.7048\n",
            "Epoch 28/30\n",
            "\u001b[1m56/56\u001b[0m \u001b[32m━━━━━━━━━━━━━━━━━━━━\u001b[0m\u001b[37m\u001b[0m \u001b[1m3s\u001b[0m 53ms/step - accuracy: 0.9978 - loss: 0.0068 - val_accuracy: 0.6370 - val_loss: 3.7774\n",
            "Epoch 29/30\n",
            "\u001b[1m56/56\u001b[0m \u001b[32m━━━━━━━━━━━━━━━━━━━━\u001b[0m\u001b[37m\u001b[0m \u001b[1m4s\u001b[0m 42ms/step - accuracy: 0.9977 - loss: 0.0083 - val_accuracy: 0.6461 - val_loss: 3.7536\n",
            "Epoch 30/30\n",
            "\u001b[1m56/56\u001b[0m \u001b[32m━━━━━━━━━━━━━━━━━━━━\u001b[0m\u001b[37m\u001b[0m \u001b[1m2s\u001b[0m 35ms/step - accuracy: 0.9981 - loss: 0.0066 - val_accuracy: 0.6397 - val_loss: 3.8049\n"
          ]
        }
      ]
    },
    {
      "cell_type": "code",
      "source": [
        "lstm_cnn_model.save('lstm_cnn_ner_model.h5')"
      ],
      "metadata": {
        "colab": {
          "base_uri": "https://localhost:8080/"
        },
        "id": "bTDL3M9r0pRB",
        "outputId": "0140ffc8-6adc-44c4-fddf-f8a9f74e8bc4"
      },
      "execution_count": 22,
      "outputs": [
        {
          "output_type": "stream",
          "name": "stderr",
          "text": [
            "WARNING:absl:You are saving your model as an HDF5 file via `model.save()` or `keras.saving.save_model(model)`. This file format is considered legacy. We recommend using instead the native Keras format, e.g. `model.save('my_model.keras')` or `keras.saving.save_model(model, 'my_model.keras')`. \n"
          ]
        }
      ]
    },
    {
      "cell_type": "code",
      "source": [
        "import pandas as pd\n",
        "from tensorflow.keras.models import load_model\n",
        "\n",
        "# Load the trained model\n",
        "loaded_model = load_model(\"lstm_cnn_ner_model.h5\")\n",
        "\n",
        "# Load and preprocess test data\n",
        "test_data = pd.read_csv(\"data_test.csv\")  # Replace with your test file path\n",
        "\n",
        "# Prepare data (assuming prepare_data_with_token_limit is defined)\n",
        "test_sentences, test_labels = prepare_data_with_token_limit(test_data, max_tokens)\n",
        "\n",
        "# Encode test data (assuming encode_data is defined)\n",
        "X_test, y_test, _, _ = encode_data(test_sentences, test_labels, max_tokens)\n",
        "\n",
        "# Evaluate the model\n",
        "loss, accuracy = loaded_model.evaluate(X_test, y_test, batch_size=32)\n",
        "print(f\"Test Loss: {loss:.4f}\")\n",
        "print(f\"Test Accuracy: {accuracy:.4f}\")"
      ],
      "metadata": {
        "colab": {
          "base_uri": "https://localhost:8080/"
        },
        "id": "hzzhyecO1Fa7",
        "outputId": "6c5059d5-0c47-414a-cb42-710dd223b55d"
      },
      "execution_count": 23,
      "outputs": [
        {
          "output_type": "stream",
          "name": "stderr",
          "text": [
            "WARNING:absl:Compiled the loaded model, but the compiled metrics have yet to be built. `model.compile_metrics` will be empty until you train or evaluate the model.\n"
          ]
        },
        {
          "output_type": "stream",
          "name": "stdout",
          "text": [
            "\u001b[1m5/5\u001b[0m \u001b[32m━━━━━━━━━━━━━━━━━━━━\u001b[0m\u001b[37m\u001b[0m \u001b[1m2s\u001b[0m 34ms/step - accuracy: 0.6373 - loss: 3.8292\n",
            "Test Loss: 3.8689\n",
            "Test Accuracy: 0.6333\n"
          ]
        }
      ]
    },
    {
      "cell_type": "code",
      "source": [
        "import numpy as np\n",
        "\n",
        "def decode_predictions(predictions, label_encoder):\n",
        "    \"\"\"\n",
        "    Decodes predictions from the model to BIO tags.\n",
        "\n",
        "    Args:\n",
        "        predictions (np.array): Predicted probabilities for each token.\n",
        "        label_encoder (LabelEncoder): Label encoder for BIO tags.\n",
        "\n",
        "    Returns:\n",
        "        decoded_labels (list of list of str): Decoded BIO tags for each sequence.\n",
        "    \"\"\"\n",
        "    decoded_labels = []\n",
        "    for sequence in predictions:\n",
        "        predicted_indices = np.argmax(sequence, axis=-1)  # Get the index of the highest probability\n",
        "        decoded_sequence = label_encoder.inverse_transform(predicted_indices)\n",
        "        decoded_labels.append(decoded_sequence)\n",
        "    return decoded_labels\n",
        "\n",
        "# Predict and decode BIO tags\n",
        "predictions = loaded_model.predict(X_test, batch_size=16)\n",
        "decoded_labels = decode_predictions(predictions, label_encoder)\n",
        "\n",
        "# Compare predicted and actual labels for a sample\n",
        "for i in range(3):  # Display 3 examples\n",
        "    print(\"Tokens:\", test_sentences[i])\n",
        "    print(\"Actual:\", test_labels[i])\n",
        "    print(\"Predicted:\", decoded_labels[i])\n",
        "    print()"
      ],
      "metadata": {
        "colab": {
          "base_uri": "https://localhost:8080/"
        },
        "id": "yxtLpkhZ1PSq",
        "outputId": "f04442e0-9cad-4565-94b4-e4e652ce2e46"
      },
      "execution_count": 24,
      "outputs": [
        {
          "output_type": "stream",
          "name": "stdout",
          "text": [
            "\u001b[1m9/9\u001b[0m \u001b[32m━━━━━━━━━━━━━━━━━━━━\u001b[0m\u001b[37m\u001b[0m \u001b[1m2s\u001b[0m 95ms/step\n",
            "Tokens: ['Systems', 'based', 'on', 'synchronous', 'grammars', 'and', 'tree', 'transducers', 'promise', 'to', 'improve', 'the', 'quality', 'of', 'statistical', 'machine', 'translation', 'output', ',', 'but', 'are', 'often', 'very', 'computationally', 'intensive', '.', 'The', 'complexity', 'is', 'exponential', 'in']\n",
            "Actual: ['O', 'O', 'O', 'B', 'I', 'O', 'B', 'B', 'O', 'O', 'O', 'O', 'O', 'O', 'B', 'I', 'I', 'I', 'O', 'O', 'O', 'O', 'O', 'B', 'O', 'O', 'O', 'B', 'O', 'B', 'O']\n",
            "Predicted: ['O' 'O' 'O' 'O' 'I' 'O' 'B' 'I' 'I' 'O' 'O' 'O' 'O' 'O' 'O' 'O' 'O' 'O'\n",
            " 'O' 'B' 'O' 'B' 'O' 'O' 'B' 'O' 'O' 'O' 'O' 'B']\n",
            "\n",
            "Tokens: ['in', 'the', 'size', 'of', 'individual', 'grammar', 'rules', 'due', 'to', 'arbitrary', 're', 'orderings', 'between', 'the', 'two', 'languages', '.', 'We', 'develop', 'a', 'theory', 'of', 'binarization', 'for', 'synchronous', 'context', 'free', 'grammars', 'and', 'present']\n",
            "Actual: ['O', 'O', 'O', 'O', 'O', 'B', 'I', 'O', 'O', 'B', 'O', 'O', 'O', 'O', 'O', 'O', 'O', 'O', 'O', 'O', 'O', 'O', 'B', 'O', 'B', 'I', 'I', 'I', 'O', 'O']\n",
            "Predicted: ['O' 'O' 'O' 'O' 'B' 'I' 'I' 'I' 'I' 'I' 'O' 'B' 'O' 'O' 'O' 'O' 'O' 'O'\n",
            " 'O' 'O' 'B' 'O' 'B' 'O' 'O' 'B' 'I' 'I' 'O' 'O']\n",
            "\n",
            "Tokens: ['a', 'linear', 'time', 'algorithm', 'for', 'binarizing', 'synchronous', 'rules', 'when', 'possible', '.', 'In', 'our', 'large', 'scale', 'experiments', ',', 'we', 'found', 'that', 'almost', 'all', 'rules', 'are', 'binarizable', 'and', 'the', 'resulting', 'binarized', 'rule', 'set']\n",
            "Actual: ['O', 'B', 'I', 'I', 'O', 'B', 'B', 'I', 'O', 'O', 'O', 'O', 'O', 'O', 'O', 'O', 'O', 'O', 'O', 'O', 'O', 'O', 'O', 'O', 'B', 'O', 'O', 'O', 'B', 'I', 'O']\n",
            "Predicted: ['O' 'O' 'O' 'B' 'O' 'B' 'O' 'B' 'I' 'O' 'O' 'O' 'B' 'I' 'I' 'I' 'O' 'O'\n",
            " 'B' 'O' 'B' 'I' 'O' 'O' 'B' 'O' 'O' 'B' 'I' 'I']\n",
            "\n"
          ]
        }
      ]
    },
    {
      "cell_type": "code",
      "source": [
        "import matplotlib.pyplot as plt\n",
        "from sklearn.metrics import classification_report, confusion_matrix\n",
        "import numpy as np\n",
        "\n",
        "# Plotting Loss and Accuracy\n",
        "def plot_loss_accuracy(history):\n",
        "    plt.figure(figsize=(12, 5))\n",
        "\n",
        "    # Plot Loss\n",
        "    plt.subplot(1, 2, 1)\n",
        "    plt.plot(history.history['loss'], label='Training Loss')\n",
        "    plt.plot(history.history['val_loss'], label='Validation Loss')\n",
        "    plt.title('Loss')\n",
        "    plt.xlabel('Epochs')\n",
        "    plt.ylabel('Loss')\n",
        "    plt.legend()\n",
        "\n",
        "    plt.tight_layout()\n",
        "    plt.show()\n",
        "\n",
        "# Plot the graphs\n",
        "plot_loss_accuracy(history_lstm_cnn)"
      ],
      "metadata": {
        "colab": {
          "base_uri": "https://localhost:8080/",
          "height": 507
        },
        "id": "0g6QDU3N1SuD",
        "outputId": "1eb5508b-9499-4492-8b1b-acb24f3aba5e"
      },
      "execution_count": 26,
      "outputs": [
        {
          "output_type": "display_data",
          "data": {
            "text/plain": [
              "<Figure size 1200x500 with 1 Axes>"
            ],
            "image/png": "[encoded data removed]"
          },
          "metadata": {}
        }
      ]
    },
    {
      "cell_type": "code",
      "source": [
        "# Evaluate the model on test data\n",
        "y_pred = lstm_cnn_model.predict(X_test)\n",
        "y_pred_classes = np.argmax(y_pred, axis=-1)\n",
        "y_true_classes = np.argmax(y_test, axis=-1)\n",
        "\n",
        "# Flatten the predictions and true labels for metrics calculation\n",
        "y_pred_flat = y_pred_classes.flatten()\n",
        "y_true_flat = y_true_classes.flatten()\n",
        "\n",
        "# Print classification report\n",
        "print(\"Classification Report:\")\n",
        "print(classification_report(y_true_flat, y_pred_flat, digits=4))"
      ],
      "metadata": {
        "colab": {
          "base_uri": "https://localhost:8080/"
        },
        "id": "1YeYCWRH1VKC",
        "outputId": "aed28e67-9e39-45d1-ec48-2bd3d4b5900e"
      },
      "execution_count": 28,
      "outputs": [
        {
          "output_type": "stream",
          "name": "stdout",
          "text": [
            "\u001b[1m5/5\u001b[0m \u001b[32m━━━━━━━━━━━━━━━━━━━━\u001b[0m\u001b[37m\u001b[0m \u001b[1m1s\u001b[0m 131ms/step\n",
            "Classification Report:\n",
            "              precision    recall  f1-score   support\n",
            "\n",
            "           0     0.1691    0.2063    0.1859       446\n",
            "           1     0.1675    0.1390    0.1519       482\n",
            "           2     0.7818    0.7776    0.7797      2972\n",
            "\n",
            "    accuracy                         0.6333      3900\n",
            "   macro avg     0.3728    0.3743    0.3725      3900\n",
            "weighted avg     0.6358    0.6333    0.6342      3900\n",
            "\n"
          ]
        }
      ]
    },
    {
      "cell_type": "code",
      "source": [
        "from sklearn.metrics import classification_report, confusion_matrix, ConfusionMatrixDisplay\n",
        "import matplotlib.pyplot as plt\n",
        "\n",
        "def flatten_sequences(sequences):\n",
        "    \"\"\"\n",
        "    Flattens a list of sequences into a single list.\n",
        "\n",
        "    Args:\n",
        "        sequences (list of list of str): List of sequences.\n",
        "\n",
        "    Returns:\n",
        "        flattened (list of str): Flattened sequence.\n",
        "    \"\"\"\n",
        "    return [label for seq in sequences for label in seq]\n",
        "\n",
        "# Flatten actual and predicted labels for comparison\n",
        "y_true = flatten_sequences(test_labels)\n",
        "y_pred = flatten_sequences(decoded_labels)\n",
        "\n",
        "# Adjust the lengths of y_true and y_pred to match\n",
        "min_len = min(len(y_true), len(y_pred))\n",
        "y_true = y_true[:min_len]\n",
        "y_pred = y_pred[:min_len]\n",
        "\n",
        "# Generate confusion matrix\n",
        "conf_matrix = confusion_matrix(y_true, y_pred, labels=['B', 'I', 'O'])\n",
        "\n",
        "# Display the confusion matrix\n",
        "print(\"Confusion Matrix:\")\n",
        "print(conf_matrix)\n",
        "\n",
        "# Visualize the confusion matrix\n",
        "disp = ConfusionMatrixDisplay(confusion_matrix=conf_matrix, display_labels=['B', 'I', 'O'])\n",
        "disp.plot(cmap=plt.cm.Blues, xticks_rotation='vertical')\n",
        "plt.title(\"Confusion Matrix\")\n",
        "plt.show()"
      ],
      "metadata": {
        "colab": {
          "base_uri": "https://localhost:8080/",
          "height": 538
        },
        "id": "j-Mj_IPx1ciT",
        "outputId": "42704ae5-48ec-4465-91bb-d08cd36521e7"
      },
      "execution_count": 32,
      "outputs": [
        {
          "output_type": "stream",
          "name": "stdout",
          "text": [
            "Confusion Matrix:\n",
            "[[  64   40  338]\n",
            " [  73   53  371]\n",
            " [ 407  307 2247]]\n"
          ]
        },
        {
          "output_type": "display_data",
          "data": {
            "text/plain": [
              "<Figure size 640x480 with 2 Axes>"
            ],
            "image/png": "[encoded data removed]"
          },
          "metadata": {}
        }
      ]
    },
    {
      "cell_type": "code",
      "source": [
        "import pandas as pd\n",
        "from tensorflow.keras.preprocessing.sequence import pad_sequences\n",
        "\n",
        "# Sample sentence to test\n",
        "test_sentence = [\"This\", \"paper\", \"aim\", \"to\", \"solve\", \"machine\", \"translation\", \"Tagging\", \"problem\", \"using\", \"neural\", \"networks\"]\n",
        "\n",
        "# Tokenize the sample sentence\n",
        "token_ids = [tokenizer.word_index.get(token.lower(), 0) for token in test_sentence]  # Use .lower() for case-insensitivity\n",
        "\n",
        "# Pad sequence to the same length as the training data\n",
        "max_len = 30  # Ensure this matches the max token length used in training\n",
        "token_ids_padded = pad_sequences([token_ids], maxlen=max_len, padding=\"post\", truncating=\"post\")\n",
        "\n",
        "print(\"Tokenized and padded unseen data:\", token_ids_padded)\n",
        "\n",
        "# Predict using the trained model\n",
        "predictions = lstm_cnn_model.predict(token_ids_padded)\n",
        "\n",
        "# Decode predictions to class labels\n",
        "predicted_labels = [label_encoder.inverse_transform([pred.argmax()])[0] for pred in predictions[0]]\n",
        "\n",
        "# Combine original words with their predicted labels\n",
        "word_label_pairs = [(word, label) for word, label in zip(test_sentence, predicted_labels[:len(test_sentence)])]\n",
        "\n",
        "# Print results\n",
        "print(\"\\nOriginal Words with Predicted Labels:\")\n",
        "for word, label in word_label_pairs:\n",
        "    print(f\"{word}: {label}\")"
      ],
      "metadata": {
        "colab": {
          "base_uri": "https://localhost:8080/"
        },
        "id": "EPB1dUkD1i4h",
        "outputId": "77d26e35-ac06-4ee1-c757-3702da8e5fbd"
      },
      "execution_count": 34,
      "outputs": [
        {
          "output_type": "stream",
          "name": "stdout",
          "text": [
            "Tokenized and padded unseen data: [[  23  574 1118    8  879  144   43    0  149   87  282    0    0    0\n",
            "     0    0    0    0    0    0    0    0    0    0    0    0    0    0\n",
            "     0    0]]\n",
            "\u001b[1m1/1\u001b[0m \u001b[32m━━━━━━━━━━━━━━━━━━━━\u001b[0m\u001b[37m\u001b[0m \u001b[1m0s\u001b[0m 46ms/step\n",
            "\n",
            "Original Words with Predicted Labels:\n",
            "This: B\n",
            "paper: O\n",
            "aim: O\n",
            "to: O\n",
            "solve: B\n",
            "machine: I\n",
            "translation: I\n",
            "Tagging: B\n",
            "problem: B\n",
            "using: I\n",
            "neural: I\n",
            "networks: B\n"
          ]
        }
      ]
    },
    {
      "cell_type": "code",
      "source": [],
      "metadata": {
        "id": "aHS_P5Lh2L2K"
      },
      "execution_count": null,
      "outputs": []
    }
  ]
}
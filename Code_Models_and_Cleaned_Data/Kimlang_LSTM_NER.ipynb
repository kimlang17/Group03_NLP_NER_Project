{
  "nbformat": 4,
  "nbformat_minor": 0,
  "metadata": {
    "colab": {
      "provenance": []
    },
    "kernelspec": {
      "name": "python3",
      "display_name": "Python 3"
    },
    "language_info": {
      "name": "python"
    }
  },
  "cells": [
    {
      "cell_type": "code",
      "source": [
        "import pandas as pd\n",
        "# Load the data\n",
        "train_data = pd.read_csv(r\"data_train.csv\")\n",
        "dev_data = pd.read_csv(r\"data_dev.csv\")\n",
        "test_data = pd.read_csv(r\"data_test.csv\")"
      ],
      "metadata": {
        "id": "6VmUrqIAR2UG"
      },
      "execution_count": 48,
      "outputs": []
    },
    {
      "cell_type": "code",
      "source": [
        "train_data.value_counts('label')"
      ],
      "metadata": {
        "colab": {
          "base_uri": "https://localhost:8080/",
          "height": 209
        },
        "id": "75pLhq19SqD1",
        "outputId": "c364928a-dea8-4072-f312-52543a2e3d24"
      },
      "execution_count": 49,
      "outputs": [
        {
          "output_type": "execute_result",
          "data": {
            "text/plain": [
              "label\n",
              "O    20084\n",
              "I     3410\n",
              "B     3248\n",
              "Name: count, dtype: int64"
            ],
            "text/html": [
              "<div>\n",
              "<style scoped>\n",
              "    .dataframe tbody tr th:only-of-type {\n",
              "        vertical-align: middle;\n",
              "    }\n",
              "\n",
              "    .dataframe tbody tr th {\n",
              "        vertical-align: top;\n",
              "    }\n",
              "\n",
              "    .dataframe thead th {\n",
              "        text-align: right;\n",
              "    }\n",
              "</style>\n",
              "<table border=\"1\" class=\"dataframe\">\n",
              "  <thead>\n",
              "    <tr style=\"text-align: right;\">\n",
              "      <th></th>\n",
              "      <th>count</th>\n",
              "    </tr>\n",
              "    <tr>\n",
              "      <th>label</th>\n",
              "      <th></th>\n",
              "    </tr>\n",
              "  </thead>\n",
              "  <tbody>\n",
              "    <tr>\n",
              "      <th>O</th>\n",
              "      <td>20084</td>\n",
              "    </tr>\n",
              "    <tr>\n",
              "      <th>I</th>\n",
              "      <td>3410</td>\n",
              "    </tr>\n",
              "    <tr>\n",
              "      <th>B</th>\n",
              "      <td>3248</td>\n",
              "    </tr>\n",
              "  </tbody>\n",
              "</table>\n",
              "</div><br><label><b>dtype:</b> int64</label>"
            ]
          },
          "metadata": {},
          "execution_count": 49
        }
      ]
    },
    {
      "cell_type": "code",
      "source": [
        "dev_data.value_counts('label')"
      ],
      "metadata": {
        "colab": {
          "base_uri": "https://localhost:8080/",
          "height": 209
        },
        "id": "9PqtK1pVStg6",
        "outputId": "46256b8a-a605-4bbd-951b-f96f3de42bfa"
      },
      "execution_count": 50,
      "outputs": [
        {
          "output_type": "execute_result",
          "data": {
            "text/plain": [
              "label\n",
              "O    2499\n",
              "I     399\n",
              "B     394\n",
              "Name: count, dtype: int64"
            ],
            "text/html": [
              "<div>\n",
              "<style scoped>\n",
              "    .dataframe tbody tr th:only-of-type {\n",
              "        vertical-align: middle;\n",
              "    }\n",
              "\n",
              "    .dataframe tbody tr th {\n",
              "        vertical-align: top;\n",
              "    }\n",
              "\n",
              "    .dataframe thead th {\n",
              "        text-align: right;\n",
              "    }\n",
              "</style>\n",
              "<table border=\"1\" class=\"dataframe\">\n",
              "  <thead>\n",
              "    <tr style=\"text-align: right;\">\n",
              "      <th></th>\n",
              "      <th>count</th>\n",
              "    </tr>\n",
              "    <tr>\n",
              "      <th>label</th>\n",
              "      <th></th>\n",
              "    </tr>\n",
              "  </thead>\n",
              "  <tbody>\n",
              "    <tr>\n",
              "      <th>O</th>\n",
              "      <td>2499</td>\n",
              "    </tr>\n",
              "    <tr>\n",
              "      <th>I</th>\n",
              "      <td>399</td>\n",
              "    </tr>\n",
              "    <tr>\n",
              "      <th>B</th>\n",
              "      <td>394</td>\n",
              "    </tr>\n",
              "  </tbody>\n",
              "</table>\n",
              "</div><br><label><b>dtype:</b> int64</label>"
            ]
          },
          "metadata": {},
          "execution_count": 50
        }
      ]
    },
    {
      "cell_type": "code",
      "source": [
        "test_data.value_counts('label')"
      ],
      "metadata": {
        "colab": {
          "base_uri": "https://localhost:8080/",
          "height": 209
        },
        "id": "o1LkFtr9SvQO",
        "outputId": "e824fdfb-e7e6-46c5-f459-b60bb211ee3d"
      },
      "execution_count": 51,
      "outputs": [
        {
          "output_type": "execute_result",
          "data": {
            "text/plain": [
              "label\n",
              "O    2972\n",
              "I     482\n",
              "B     445\n",
              "Name: count, dtype: int64"
            ],
            "text/html": [
              "<div>\n",
              "<style scoped>\n",
              "    .dataframe tbody tr th:only-of-type {\n",
              "        vertical-align: middle;\n",
              "    }\n",
              "\n",
              "    .dataframe tbody tr th {\n",
              "        vertical-align: top;\n",
              "    }\n",
              "\n",
              "    .dataframe thead th {\n",
              "        text-align: right;\n",
              "    }\n",
              "</style>\n",
              "<table border=\"1\" class=\"dataframe\">\n",
              "  <thead>\n",
              "    <tr style=\"text-align: right;\">\n",
              "      <th></th>\n",
              "      <th>count</th>\n",
              "    </tr>\n",
              "    <tr>\n",
              "      <th>label</th>\n",
              "      <th></th>\n",
              "    </tr>\n",
              "  </thead>\n",
              "  <tbody>\n",
              "    <tr>\n",
              "      <th>O</th>\n",
              "      <td>2972</td>\n",
              "    </tr>\n",
              "    <tr>\n",
              "      <th>I</th>\n",
              "      <td>482</td>\n",
              "    </tr>\n",
              "    <tr>\n",
              "      <th>B</th>\n",
              "      <td>445</td>\n",
              "    </tr>\n",
              "  </tbody>\n",
              "</table>\n",
              "</div><br><label><b>dtype:</b> int64</label>"
            ]
          },
          "metadata": {},
          "execution_count": 51
        }
      ]
    },
    {
      "cell_type": "code",
      "source": [
        "import pandas as pd\n",
        "\n",
        "def calculate_average_length(file_path):\n",
        "    # Load the data\n",
        "    data = pd.read_csv(file_path)\n",
        "\n",
        "    # Ensure columns are present\n",
        "    assert 'token' in data.columns, \"The file must contain a 'token' column.\"\n",
        "    assert 'label' in data.columns, \"The file must contain a 'label' column.\"\n",
        "\n",
        "    # List to store sentence lengths\n",
        "    sentence_lengths = []\n",
        "    current_sentence = []\n",
        "\n",
        "    # Sentence-ending punctuation\n",
        "    sentence_endings = [\".\", \"!\", \"?\"]\n",
        "\n",
        "    for token in data['token']:\n",
        "        current_sentence.append(token)\n",
        "        if token in sentence_endings:\n",
        "            sentence_lengths.append(len(current_sentence))  # Add sentence length\n",
        "            current_sentence = []  # Start a new sentence\n",
        "\n",
        "    # If there's a trailing sentence without an ending punctuation\n",
        "    if current_sentence:\n",
        "        sentence_lengths.append(len(current_sentence))\n",
        "\n",
        "    # Calculate the average length\n",
        "    average_length = sum(sentence_lengths) / len(sentence_lengths) if sentence_lengths else 0\n",
        "    return average_length\n",
        "\n",
        "# Paths to the CSV files\n",
        "train_file = \"data_train.csv\"\n",
        "dev_file = \"data_dev.csv\"\n",
        "test_file = \"data_test.csv\"\n",
        "\n",
        "# Calculate average lengths\n",
        "train_avg_length = calculate_average_length(train_file)\n",
        "dev_avg_length = calculate_average_length(dev_file)\n",
        "test_avg_length = calculate_average_length(test_file)\n",
        "\n",
        "print(f\"Average sentence length in train.csv: {train_avg_length:.2f} tokens\")\n",
        "print(f\"Average sentence length in dev.csv: {dev_avg_length:.2f} tokens\")\n",
        "print(f\"Average sentence length in test.csv: {test_avg_length:.2f} tokens\")"
      ],
      "metadata": {
        "colab": {
          "base_uri": "https://localhost:8080/"
        },
        "id": "2nuZ-BS1Swq0",
        "outputId": "ab4c2b4b-e350-4809-bf19-9fa26d81ac78"
      },
      "execution_count": 52,
      "outputs": [
        {
          "output_type": "stream",
          "name": "stdout",
          "text": [
            "Average sentence length in train.csv: 28.66 tokens\n",
            "Average sentence length in dev.csv: 27.90 tokens\n",
            "Average sentence length in test.csv: 28.88 tokens\n"
          ]
        }
      ]
    },
    {
      "cell_type": "code",
      "source": [
        "import pandas as pd\n",
        "\n",
        "def prepare_data_with_token_limit(df, max_tokens):\n",
        "    \"\"\"\n",
        "    Groups tokens and labels into sentences with a maximum token limit,\n",
        "    ensuring no sentence ends with an incomplete entity.\n",
        "\n",
        "    Args:\n",
        "        df (pd.DataFrame): Dataframe with columns 'token', 'label', and 'token length'.\n",
        "        max_tokens (int): Maximum number of tokens allowed in a sentence.\n",
        "\n",
        "    Returns:\n",
        "        sentences (list of list of str): List of tokenized sentences.\n",
        "        labels (list of list of str): List of BIO-tagged label sequences.\n",
        "    \"\"\"\n",
        "    sentences = []\n",
        "    labels = []\n",
        "    current_sentence = []\n",
        "    current_labels = []\n",
        "\n",
        "    for i, row in df.iterrows():\n",
        "        token, label = row[\"token\"], row[\"label\"]\n",
        "\n",
        "        # Add token and label to the current sentence\n",
        "        current_sentence.append(token)\n",
        "        current_labels.append(label)\n",
        "\n",
        "        # Check if we reached the max token limit\n",
        "        if len(current_sentence) >= max_tokens:\n",
        "            # Check if the last token ends with 'B' or 'I'\n",
        "            if label.startswith(\"I\") or label.startswith(\"B\"):\n",
        "                # Add the next token to complete the entity (if available)\n",
        "                if i + 1 < len(df):\n",
        "                    next_row = df.iloc[i + 1]\n",
        "                    current_sentence.append(next_row[\"token\"])\n",
        "                    current_labels.append(next_row[\"label\"])\n",
        "\n",
        "            # Save the current sentence and reset\n",
        "            sentences.append(current_sentence)\n",
        "            labels.append(current_labels)\n",
        "            current_sentence = []\n",
        "            current_labels = []\n",
        "\n",
        "    # Add the last sentence if present\n",
        "    if current_sentence:\n",
        "        sentences.append(current_sentence)\n",
        "        labels.append(current_labels)\n",
        "\n",
        "    return sentences, labels\n",
        "\n",
        "# Example usage\n",
        "train_data = pd.read_csv(\"data_train.csv\")\n",
        "max_tokens = 30  # Define your max token limit\n",
        "train_sentences, train_labels = prepare_data_with_token_limit(train_data, max_tokens)\n",
        "\n",
        "# Display the first few sentences and labels\n",
        "print(\"First sentence tokens:\", train_sentences[0])\n",
        "print(\"First sentence labels:\", train_labels[0])\n"
      ],
      "metadata": {
        "colab": {
          "base_uri": "https://localhost:8080/"
        },
        "id": "aQb8VzkLSzfR",
        "outputId": "f426a919-9ab2-45c1-d4a4-c03108c9a4fc"
      },
      "execution_count": 53,
      "outputs": [
        {
          "output_type": "stream",
          "name": "stdout",
          "text": [
            "First sentence tokens: ['In', 'this', 'article', 'we', 'discuss', 'several', 'metrics', 'of', 'coherence', 'defined', 'using', 'centering', 'theory', 'and', 'investigate', 'the', 'usefulness', 'of', 'such', 'metrics', 'for', 'information', 'ordering', 'in', 'automatic', 'text', 'generation', '.', 'We', 'estimate']\n",
            "First sentence labels: ['O', 'O', 'O', 'O', 'O', 'O', 'B', 'I', 'I', 'O', 'O', 'B', 'I', 'O', 'O', 'O', 'O', 'O', 'O', 'B', 'O', 'O', 'O', 'O', 'B', 'I', 'I', 'O', 'O', 'O']\n"
          ]
        }
      ]
    },
    {
      "cell_type": "code",
      "source": [
        "dev_sentences, dev_labels = prepare_data_with_token_limit(dev_data, max_tokens)\n",
        "test_sentences, test_labels = prepare_data_with_token_limit(test_data, max_tokens)"
      ],
      "metadata": {
        "id": "FeA02nKUS5hB"
      },
      "execution_count": 54,
      "outputs": []
    },
    {
      "cell_type": "code",
      "source": [
        "print(len(train_sentences))\n",
        "print(len(dev_sentences))\n",
        "print(len(test_sentences))"
      ],
      "metadata": {
        "colab": {
          "base_uri": "https://localhost:8080/"
        },
        "id": "3w1xOSJTS9Qv",
        "outputId": "a2c22982-588c-4f95-a788-52b751043163"
      },
      "execution_count": 55,
      "outputs": [
        {
          "output_type": "stream",
          "name": "stdout",
          "text": [
            "892\n",
            "110\n",
            "130\n"
          ]
        }
      ]
    },
    {
      "cell_type": "code",
      "source": [
        "unique_labels = sorted(set(label for labels in train_labels for label in labels))\n",
        "label_to_id = {label: i for i, label in enumerate(unique_labels)}\n",
        "id_to_label = {i: label for label, i in label_to_id.items()}"
      ],
      "metadata": {
        "id": "BsyRdCZNS_I0"
      },
      "execution_count": 56,
      "outputs": []
    },
    {
      "cell_type": "markdown",
      "source": [
        "# LSTM"
      ],
      "metadata": {
        "id": "T0IeQITCT8Ad"
      }
    },
    {
      "cell_type": "code",
      "source": [
        "import pandas as pd\n",
        "\n",
        "def prepare_data_with_token_limit(df, max_tokens):\n",
        "    \"\"\"\n",
        "    Groups tokens and labels into sentences with a maximum token limit,\n",
        "    ensuring no sentence ends with an incomplete entity.\n",
        "\n",
        "    Args:\n",
        "        df (pd.DataFrame): Dataframe with columns 'token', 'label', and 'token length'.\n",
        "        max_tokens (int): Maximum number of tokens allowed in a sentence.\n",
        "\n",
        "    Returns:\n",
        "        sentences (list of list of str): List of tokenized sentences.\n",
        "        labels (list of list of str): List of BIO-tagged label sequences.\n",
        "    \"\"\"\n",
        "    sentences = []\n",
        "    labels = []\n",
        "    current_sentence = []\n",
        "    current_labels = []\n",
        "\n",
        "    for i, row in df.iterrows():\n",
        "        token, label = row[\"token\"], row[\"label\"]\n",
        "\n",
        "        # Add token and label to the current sentence\n",
        "        current_sentence.append(token)\n",
        "        current_labels.append(label)\n",
        "\n",
        "        # Check if we reached the max token limit or it's the last token\n",
        "        if len(current_sentence) >= max_tokens or i == len(df) - 1:\n",
        "            # Check if the last token ends with 'B' or 'I' and it's not the last token in the dataframe\n",
        "            if (label.startswith(\"I\") or label.startswith(\"B\")) and i < len(df) - 1:\n",
        "                # Add the next token to complete the entity (if available)\n",
        "                next_row = df.iloc[i + 1]\n",
        "                # Only add the next token if it doesn't exceed the max_tokens limit\n",
        "                if len(current_sentence) + 1 <= max_tokens:\n",
        "                    current_sentence.append(next_row[\"token\"])\n",
        "                    current_labels.append(next_row[\"label\"])\n",
        "\n",
        "            # Save the current sentence and reset\n",
        "            sentences.append(current_sentence)\n",
        "            labels.append(current_labels)\n",
        "            current_sentence = []\n",
        "            current_labels = []\n",
        "\n",
        "    return sentences, labels"
      ],
      "metadata": {
        "id": "9xZos3CNhJyj"
      },
      "execution_count": 57,
      "outputs": []
    },
    {
      "cell_type": "code",
      "source": [
        "from sklearn.preprocessing import LabelEncoder\n",
        "from tensorflow.keras.preprocessing.text import Tokenizer\n",
        "from tensorflow.keras.utils import pad_sequences, to_categorical\n",
        "\n",
        "def encode_data(sentences, labels, max_tokens):\n",
        "    \"\"\"\n",
        "    Encode tokens and labels for Bi-LSTM processing.\n",
        "\n",
        "    Args:\n",
        "        sentences (list of list of str): Tokenized sentences.\n",
        "        labels (list of list of str): BIO-tagged label sequences.\n",
        "        max_tokens (int): Maximum number of tokens per sequence.\n",
        "\n",
        "    Returns:\n",
        "        X (np.array): Encoded sentences (padded sequences of integers).\n",
        "        y (np.array): Encoded labels (padded sequences of integers).\n",
        "    \"\"\"\n",
        "    # Tokenizer for converting words to integers\n",
        "    tokenizer = Tokenizer(lower=False, oov_token=\"<OOV>\")\n",
        "    tokenizer.fit_on_texts(sentences)\n",
        "    X = tokenizer.texts_to_sequences(sentences)\n",
        "    X = pad_sequences(X, maxlen=max_tokens, padding=\"post\", truncating=\"post\")\n",
        "\n",
        "    # Label encoding for BIO labels\n",
        "    label_encoder = LabelEncoder()\n",
        "    all_labels = [label for seq in labels for label in seq]\n",
        "    label_encoder.fit(all_labels)\n",
        "\n",
        "    y = [[label_encoder.transform([label])[0] for label in seq] for seq in labels]\n",
        "    y = pad_sequences(y, maxlen=max_tokens, padding=\"post\", truncating=\"post\")\n",
        "    y = to_categorical(y, num_classes=len(label_encoder.classes_))\n",
        "\n",
        "    return X, y, tokenizer, label_encoder"
      ],
      "metadata": {
        "id": "P7um8WKHh9Vb"
      },
      "execution_count": 59,
      "outputs": []
    },
    {
      "cell_type": "code",
      "source": [
        "# Load your training data\n",
        "train_data = pd.read_csv(\"data_train.csv\")\n",
        "\n",
        "# Define max tokens\n",
        "max_tokens = 30\n",
        "\n",
        "# Prepare train sentences and labels\n",
        "train_sentences, train_labels = prepare_data_with_token_limit(train_data, max_tokens)\n",
        "\n",
        "# Encode the data\n",
        "X_train, y_train, tokenizer, label_encoder = encode_data(train_sentences, train_labels, max_tokens)\n",
        "\n",
        "# Display shapes\n",
        "print(\"Shape of X_train:\", X_train.shape)\n",
        "print(\"Shape of y_train:\", y_train.shape)"
      ],
      "metadata": {
        "colab": {
          "base_uri": "https://localhost:8080/"
        },
        "id": "FzZPWXNahUYY",
        "outputId": "9ed17022-9a52-4e58-f83c-75fb1be1f57d"
      },
      "execution_count": 60,
      "outputs": [
        {
          "output_type": "stream",
          "name": "stdout",
          "text": [
            "Shape of X_train: (892, 30)\n",
            "Shape of y_train: (892, 30, 3)\n"
          ]
        }
      ]
    },
    {
      "cell_type": "code",
      "source": [
        "# Load your dev data\n",
        "dev_data = pd.read_csv(\"data_dev.csv\")\n",
        "\n",
        "# Define max tokens\n",
        "max_tokens = 30\n",
        "\n",
        "# Prepare dev sentences and labels\n",
        "dev_sentences, dev_labels = prepare_data_with_token_limit(dev_data, max_tokens)\n",
        "\n",
        "# Encode the data\n",
        "X_dev, y_dev, tokenizer, label_encoder = encode_data(dev_sentences, dev_labels, max_tokens)\n",
        "\n",
        "# Display shapes\n",
        "print(\"Shape of X_dev:\", X_dev.shape)\n",
        "print(\"Shape of y_dev:\", y_dev.shape)"
      ],
      "metadata": {
        "colab": {
          "base_uri": "https://localhost:8080/"
        },
        "id": "e_OyRO3VjXeu",
        "outputId": "d1d446d3-73ee-40d0-cfd9-fa841b7970b8"
      },
      "execution_count": 62,
      "outputs": [
        {
          "output_type": "stream",
          "name": "stdout",
          "text": [
            "Shape of X_dev: (110, 30)\n",
            "Shape of y_dev: (110, 30, 3)\n"
          ]
        }
      ]
    },
    {
      "cell_type": "code",
      "source": [
        "# Load your test data\n",
        "test_data = pd.read_csv(\"data_test.csv\")\n",
        "\n",
        "# Define max tokens\n",
        "max_tokens = 30\n",
        "\n",
        "# Prepare test sentences and labels\n",
        "test_sentences, test_labels = prepare_data_with_token_limit(test_data, max_tokens)\n",
        "\n",
        "# Encode the data\n",
        "X_test, y_test, tokenizer, label_encoder = encode_data(test_sentences, test_labels, max_tokens)\n",
        "\n",
        "# Display shapes\n",
        "print(\"Shape of X_test:\", X_test.shape)\n",
        "print(\"Shape of y_test:\", y_test.shape)"
      ],
      "metadata": {
        "colab": {
          "base_uri": "https://localhost:8080/"
        },
        "id": "dCHuvPJ1lff3",
        "outputId": "0403a7a7-d3ff-4982-d17c-cf3a40e8436f"
      },
      "execution_count": 67,
      "outputs": [
        {
          "output_type": "stream",
          "name": "stdout",
          "text": [
            "Shape of X_test: (130, 30)\n",
            "Shape of y_test: (130, 30, 3)\n"
          ]
        }
      ]
    },
    {
      "cell_type": "code",
      "source": [
        "from tensorflow.keras.models import Sequential\n",
        "from tensorflow.keras.layers import Embedding, LSTM, Dense, TimeDistributed, Dropout\n",
        "from tensorflow.keras.optimizers import Adam\n",
        "\n",
        "def build_lstm_model(vocab_size, num_classes, max_tokens, embedding_dim=128, lstm_units=128):\n",
        "    \"\"\"\n",
        "    Build an LSTM model for NER.\n",
        "\n",
        "    Args:\n",
        "        vocab_size (int): Size of the vocabulary.\n",
        "        num_classes (int): Number of output classes (BIO tags).\n",
        "        max_tokens (int): Maximum sequence length.\n",
        "        embedding_dim (int): Dimension of the embedding layer.\n",
        "        lstm_units (int): Number of LSTM units.\n",
        "\n",
        "    Returns:\n",
        "        model (keras.Model): Compiled LSTM model.\n",
        "    \"\"\"\n",
        "    model = Sequential()\n",
        "    model.add(Embedding(input_dim=vocab_size, output_dim=embedding_dim, input_length=max_tokens))\n",
        "    model.add(LSTM(units=lstm_units, return_sequences=True))\n",
        "    model.add(TimeDistributed(Dense(units=num_classes, activation=\"softmax\")))\n",
        "\n",
        "    model.compile(optimizer=Adam(learning_rate=0.001), loss=\"categorical_crossentropy\", metrics=[\"accuracy\"])\n",
        "    return model\n",
        "\n",
        "# Build and compile the model\n",
        "vocab_size = len(tokenizer.word_index) + 1\n",
        "num_classes = y_train.shape[2]  # Number of BIO classes\n",
        "\n",
        "model = build_lstm_model(vocab_size, num_classes, max_tokens)\n",
        "\n",
        "# Display model summary\n",
        "model.summary()"
      ],
      "metadata": {
        "colab": {
          "base_uri": "https://localhost:8080/"
        },
        "id": "IgOqgrG2iM3s",
        "outputId": "d4499e84-954f-46f2-acc4-8194f9042613"
      },
      "execution_count": 61,
      "outputs": [
        {
          "output_type": "stream",
          "name": "stdout",
          "text": [
            "Model: \"sequential\"\n",
            "_________________________________________________________________\n",
            " Layer (type)                Output Shape              Param #   \n",
            "=================================================================\n",
            " embedding_12 (Embedding)    (None, 30, 128)           494720    \n",
            "                                                                 \n",
            " lstm_14 (LSTM)              (None, 30, 128)           131584    \n",
            "                                                                 \n",
            " time_distributed_12 (TimeDi  (None, 30, 3)            387       \n",
            " stributed)                                                      \n",
            "                                                                 \n",
            "=================================================================\n",
            "Total params: 626,691\n",
            "Trainable params: 626,691\n",
            "Non-trainable params: 0\n",
            "_________________________________________________________________\n"
          ]
        }
      ]
    },
    {
      "cell_type": "code",
      "source": [
        "history = model.fit(\n",
        "    x=X_train,\n",
        "    y=y_train,\n",
        "    validation_data=(X_dev, y_dev),\n",
        "    batch_size=16,\n",
        "    epochs=30\n",
        ")"
      ],
      "metadata": {
        "colab": {
          "base_uri": "https://localhost:8080/"
        },
        "id": "TrjalEVpilwu",
        "outputId": "33ad3beb-da99-4b17-ca0a-6145275afbe9"
      },
      "execution_count": 70,
      "outputs": [
        {
          "output_type": "stream",
          "name": "stdout",
          "text": [
            "Epoch 1/30\n",
            "56/56 [==============================] - 5s 82ms/step - loss: 0.1270 - accuracy: 0.9508 - val_loss: 1.8792 - val_accuracy: 0.6697\n",
            "Epoch 2/30\n",
            "56/56 [==============================] - 5s 91ms/step - loss: 0.1103 - accuracy: 0.9576 - val_loss: 1.9651 - val_accuracy: 0.6485\n",
            "Epoch 3/30\n",
            "56/56 [==============================] - 2s 41ms/step - loss: 0.0995 - accuracy: 0.9624 - val_loss: 2.0566 - val_accuracy: 0.6712\n",
            "Epoch 4/30\n",
            "56/56 [==============================] - 2s 44ms/step - loss: 0.0807 - accuracy: 0.9699 - val_loss: 2.1930 - val_accuracy: 0.6600\n",
            "Epoch 5/30\n",
            "56/56 [==============================] - 2s 44ms/step - loss: 0.0676 - accuracy: 0.9754 - val_loss: 2.3297 - val_accuracy: 0.6491\n",
            "Epoch 6/30\n",
            "56/56 [==============================] - 2s 44ms/step - loss: 0.0587 - accuracy: 0.9791 - val_loss: 2.4836 - val_accuracy: 0.6558\n",
            "Epoch 7/30\n",
            "56/56 [==============================] - 4s 69ms/step - loss: 0.0516 - accuracy: 0.9824 - val_loss: 2.5410 - val_accuracy: 0.6558\n",
            "Epoch 8/30\n",
            "56/56 [==============================] - 2s 43ms/step - loss: 0.0470 - accuracy: 0.9837 - val_loss: 2.6389 - val_accuracy: 0.6467\n",
            "Epoch 9/30\n",
            "56/56 [==============================] - 2s 41ms/step - loss: 0.0389 - accuracy: 0.9865 - val_loss: 2.7498 - val_accuracy: 0.6530\n",
            "Epoch 10/30\n",
            "56/56 [==============================] - 2s 41ms/step - loss: 0.0354 - accuracy: 0.9876 - val_loss: 2.8568 - val_accuracy: 0.6464\n",
            "Epoch 11/30\n",
            "56/56 [==============================] - 2s 41ms/step - loss: 0.0333 - accuracy: 0.9885 - val_loss: 2.9023 - val_accuracy: 0.6503\n",
            "Epoch 12/30\n",
            "56/56 [==============================] - 4s 64ms/step - loss: 0.0294 - accuracy: 0.9897 - val_loss: 3.0180 - val_accuracy: 0.6458\n",
            "Epoch 13/30\n",
            "56/56 [==============================] - 3s 49ms/step - loss: 0.0274 - accuracy: 0.9907 - val_loss: 3.0543 - val_accuracy: 0.6555\n",
            "Epoch 14/30\n",
            "56/56 [==============================] - 2s 43ms/step - loss: 0.0235 - accuracy: 0.9920 - val_loss: 3.1408 - val_accuracy: 0.6455\n",
            "Epoch 15/30\n",
            "56/56 [==============================] - 2s 45ms/step - loss: 0.0214 - accuracy: 0.9928 - val_loss: 3.1642 - val_accuracy: 0.6461\n",
            "Epoch 16/30\n",
            "56/56 [==============================] - 2s 44ms/step - loss: 0.0220 - accuracy: 0.9923 - val_loss: 3.2161 - val_accuracy: 0.6576\n",
            "Epoch 17/30\n",
            "56/56 [==============================] - 4s 66ms/step - loss: 0.0207 - accuracy: 0.9929 - val_loss: 3.2961 - val_accuracy: 0.6427\n",
            "Epoch 18/30\n",
            "56/56 [==============================] - 3s 53ms/step - loss: 0.0208 - accuracy: 0.9927 - val_loss: 3.3082 - val_accuracy: 0.6464\n",
            "Epoch 19/30\n",
            "56/56 [==============================] - 2s 44ms/step - loss: 0.0228 - accuracy: 0.9921 - val_loss: 3.2287 - val_accuracy: 0.6597\n",
            "Epoch 20/30\n",
            "56/56 [==============================] - 2s 43ms/step - loss: 0.0185 - accuracy: 0.9936 - val_loss: 3.3479 - val_accuracy: 0.6430\n",
            "Epoch 21/30\n",
            "56/56 [==============================] - 3s 45ms/step - loss: 0.0156 - accuracy: 0.9947 - val_loss: 3.3779 - val_accuracy: 0.6485\n",
            "Epoch 22/30\n",
            "56/56 [==============================] - 3s 61ms/step - loss: 0.0127 - accuracy: 0.9958 - val_loss: 3.4828 - val_accuracy: 0.6421\n",
            "Epoch 23/30\n",
            "56/56 [==============================] - 3s 57ms/step - loss: 0.0118 - accuracy: 0.9962 - val_loss: 3.5569 - val_accuracy: 0.6394\n",
            "Epoch 24/30\n",
            "56/56 [==============================] - 2s 43ms/step - loss: 0.0106 - accuracy: 0.9964 - val_loss: 3.5992 - val_accuracy: 0.6373\n",
            "Epoch 25/30\n",
            "56/56 [==============================] - 3s 46ms/step - loss: 0.0100 - accuracy: 0.9968 - val_loss: 3.6140 - val_accuracy: 0.6476\n",
            "Epoch 26/30\n",
            "56/56 [==============================] - 3s 45ms/step - loss: 0.0100 - accuracy: 0.9967 - val_loss: 3.6627 - val_accuracy: 0.6461\n",
            "Epoch 27/30\n",
            "56/56 [==============================] - 3s 59ms/step - loss: 0.0100 - accuracy: 0.9965 - val_loss: 3.6475 - val_accuracy: 0.6455\n",
            "Epoch 28/30\n",
            "56/56 [==============================] - 4s 76ms/step - loss: 0.0109 - accuracy: 0.9963 - val_loss: 3.6576 - val_accuracy: 0.6442\n",
            "Epoch 29/30\n",
            "56/56 [==============================] - 2s 43ms/step - loss: 0.0154 - accuracy: 0.9944 - val_loss: 3.6542 - val_accuracy: 0.6400\n",
            "Epoch 30/30\n",
            "56/56 [==============================] - 2s 44ms/step - loss: 0.0205 - accuracy: 0.9929 - val_loss: 3.5490 - val_accuracy: 0.6415\n"
          ]
        }
      ]
    },
    {
      "cell_type": "code",
      "source": [
        "model.save('lstm_ner_model.h5')"
      ],
      "metadata": {
        "id": "14oWuW5Jnzus"
      },
      "execution_count": 75,
      "outputs": []
    },
    {
      "cell_type": "code",
      "source": [
        "import pandas as pd\n",
        "from tensorflow.keras.models import load_model\n",
        "\n",
        "# Load the trained model\n",
        "loaded_model = load_model(\"lstm_ner_model.h5\")\n",
        "\n",
        "# Load and preprocess test data\n",
        "test_data = pd.read_csv(\"data_test.csv\")  # Replace with your test file path\n",
        "\n",
        "# Prepare data (assuming prepare_data_with_token_limit is defined)\n",
        "test_sentences, test_labels = prepare_data_with_token_limit(test_data, max_tokens)\n",
        "\n",
        "# Encode test data (assuming encode_data is defined)\n",
        "X_test, y_test, _, _ = encode_data(test_sentences, test_labels, max_tokens)\n",
        "\n",
        "# Evaluate the model\n",
        "loss, accuracy = loaded_model.evaluate(X_test, y_test, batch_size=32)\n",
        "print(f\"Test Loss: {loss:.4f}\")\n",
        "print(f\"Test Accuracy: {accuracy:.4f}\")"
      ],
      "metadata": {
        "colab": {
          "base_uri": "https://localhost:8080/"
        },
        "id": "X2HZ5qg3ndO-",
        "outputId": "e47cbf3c-ac3c-4caa-8259-7b33e726fde6"
      },
      "execution_count": 76,
      "outputs": [
        {
          "output_type": "stream",
          "name": "stdout",
          "text": [
            "5/5 [==============================] - 1s 35ms/step - loss: 3.6799 - accuracy: 0.6349\n",
            "Test Loss: 3.6799\n",
            "Test Accuracy: 0.6349\n"
          ]
        }
      ]
    },
    {
      "cell_type": "code",
      "source": [
        "import numpy as np\n",
        "\n",
        "def decode_predictions(predictions, label_encoder):\n",
        "    \"\"\"\n",
        "    Decodes predictions from the model to BIO tags.\n",
        "\n",
        "    Args:\n",
        "        predictions (np.array): Predicted probabilities for each token.\n",
        "        label_encoder (LabelEncoder): Label encoder for BIO tags.\n",
        "\n",
        "    Returns:\n",
        "        decoded_labels (list of list of str): Decoded BIO tags for each sequence.\n",
        "    \"\"\"\n",
        "    decoded_labels = []\n",
        "    for sequence in predictions:\n",
        "        predicted_indices = np.argmax(sequence, axis=-1)  # Get the index of the highest probability\n",
        "        decoded_sequence = label_encoder.inverse_transform(predicted_indices)\n",
        "        decoded_labels.append(decoded_sequence)\n",
        "    return decoded_labels\n",
        "\n",
        "# Predict and decode BIO tags\n",
        "predictions = loaded_model.predict(X_test, batch_size=16)\n",
        "decoded_labels = decode_predictions(predictions, label_encoder)\n",
        "\n",
        "# Compare predicted and actual labels for a sample\n",
        "for i in range(3):  # Display 3 examples\n",
        "    print(\"Tokens:\", test_sentences[i])\n",
        "    print(\"Actual:\", test_labels[i])\n",
        "    print(\"Predicted:\", decoded_labels[i])\n",
        "    print()"
      ],
      "metadata": {
        "colab": {
          "base_uri": "https://localhost:8080/"
        },
        "id": "TDjHZZ8YnNXa",
        "outputId": "0093938d-9485-4864-9075-d42a2afe3b30"
      },
      "execution_count": 79,
      "outputs": [
        {
          "output_type": "stream",
          "name": "stdout",
          "text": [
            "9/9 [==============================] - 0s 9ms/step\n",
            "Tokens: ['Systems', 'based', 'on', 'synchronous', 'grammars', 'and', 'tree', 'transducers', 'promise', 'to', 'improve', 'the', 'quality', 'of', 'statistical', 'machine', 'translation', 'output', ',', 'but', 'are', 'often', 'very', 'computationally', 'intensive', '.', 'The', 'complexity', 'is', 'exponential']\n",
            "Actual: ['O', 'O', 'O', 'B', 'I', 'O', 'B', 'B', 'O', 'O', 'O', 'O', 'O', 'O', 'B', 'I', 'I', 'I', 'O', 'O', 'O', 'O', 'O', 'B', 'O', 'O', 'O', 'B', 'O', 'B']\n",
            "Predicted: ['O' 'O' 'O' 'B' 'O' 'O' 'B' 'I' 'I' 'O' 'B' 'O' 'O' 'O' 'O' 'O' 'B' 'I'\n",
            " 'O' 'B' 'O' 'O' 'O' 'O' 'B' 'O' 'O' 'O' 'O' 'B']\n",
            "\n",
            "Tokens: ['in', 'the', 'size', 'of', 'individual', 'grammar', 'rules', 'due', 'to', 'arbitrary', 're', 'orderings', 'between', 'the', 'two', 'languages', '.', 'We', 'develop', 'a', 'theory', 'of', 'binarization', 'for', 'synchronous', 'context', 'free', 'grammars', 'and', 'present']\n",
            "Actual: ['O', 'O', 'O', 'O', 'O', 'B', 'I', 'O', 'O', 'B', 'O', 'O', 'O', 'O', 'O', 'O', 'O', 'O', 'O', 'O', 'O', 'O', 'B', 'O', 'B', 'I', 'I', 'I', 'O', 'O']\n",
            "Predicted: ['I' 'I' 'B' 'O' 'O' 'I' 'O' 'I' 'O' 'O' 'O' 'B' 'O' 'O' 'O' 'O' 'O' 'O'\n",
            " 'B' 'O' 'B' 'O' 'B' 'O' 'B' 'I' 'I' 'I' 'O' 'B']\n",
            "\n",
            "Tokens: ['a', 'linear', 'time', 'algorithm', 'for', 'binarizing', 'synchronous', 'rules', 'when', 'possible', '.', 'In', 'our', 'large', 'scale', 'experiments', ',', 'we', 'found', 'that', 'almost', 'all', 'rules', 'are', 'binarizable', 'and', 'the', 'resulting', 'binarized', 'rule']\n",
            "Actual: ['O', 'B', 'I', 'I', 'O', 'B', 'B', 'I', 'O', 'O', 'O', 'O', 'O', 'O', 'O', 'O', 'O', 'O', 'O', 'O', 'O', 'O', 'O', 'O', 'B', 'O', 'O', 'O', 'B', 'I']\n",
            "Predicted: ['O' 'O' 'O' 'O' 'O' 'B' 'I' 'O' 'B' 'O' 'O' 'O' 'O' 'O' 'B' 'O' 'O' 'O'\n",
            " 'B' 'O' 'B' 'O' 'O' 'O' 'O' 'O' 'O' 'B' 'I' 'I']\n",
            "\n"
          ]
        }
      ]
    },
    {
      "cell_type": "code",
      "source": [
        "import matplotlib.pyplot as plt\n",
        "from sklearn.metrics import classification_report, confusion_matrix\n",
        "import numpy as np\n",
        "\n",
        "# Plotting Loss and Accuracy\n",
        "def plot_loss_accuracy(history):\n",
        "    plt.figure(figsize=(12, 5))\n",
        "\n",
        "    # Plot Loss\n",
        "    plt.subplot(1, 2, 1)\n",
        "    plt.plot(history.history['loss'], label='Training Loss')\n",
        "    plt.plot(history.history['val_loss'], label='Validation Loss')\n",
        "    plt.title('Loss')\n",
        "    plt.xlabel('Epochs')\n",
        "    plt.ylabel('Loss')\n",
        "    plt.legend()\n",
        "\n",
        "    plt.tight_layout()\n",
        "    plt.show()\n",
        "\n",
        "# Plot the graphs\n",
        "plot_loss_accuracy(history)"
      ],
      "metadata": {
        "colab": {
          "base_uri": "https://localhost:8080/",
          "height": 507
        },
        "id": "K8c4ApNdlSTs",
        "outputId": "446aafe0-df8a-4442-b64f-02a5eed7d62b"
      },
      "execution_count": 80,
      "outputs": [
        {
          "output_type": "display_data",
          "data": {
            "text/plain": [
              "<Figure size 1200x500 with 1 Axes>"
            ],
            "image/png": "[encoded data removed]"
          },
          "metadata": {}
        }
      ]
    },
    {
      "cell_type": "code",
      "source": [
        "# Evaluate the model on test data\n",
        "y_pred = model.predict(X_test)\n",
        "y_pred_classes = np.argmax(y_pred, axis=-1)\n",
        "y_true_classes = np.argmax(y_test, axis=-1)\n",
        "\n",
        "# Flatten the predictions and true labels for metrics calculation\n",
        "y_pred_flat = y_pred_classes.flatten()\n",
        "y_true_flat = y_true_classes.flatten()\n",
        "\n",
        "# Print classification report\n",
        "print(\"Classification Report:\")\n",
        "print(classification_report(y_true_flat, y_pred_flat, digits=4))"
      ],
      "metadata": {
        "colab": {
          "base_uri": "https://localhost:8080/"
        },
        "id": "FEr9NgAolWVS",
        "outputId": "c4eb8348-975c-4634-8fb1-fef8d8b520c9"
      },
      "execution_count": 81,
      "outputs": [
        {
          "output_type": "stream",
          "name": "stdout",
          "text": [
            "5/5 [==============================] - 0s 15ms/step\n",
            "Classification Report:\n",
            "              precision    recall  f1-score   support\n",
            "\n",
            "           0     0.1655    0.2085    0.1845       446\n",
            "           1     0.1702    0.1328    0.1492       482\n",
            "           2     0.7829    0.7803    0.7816      2972\n",
            "\n",
            "    accuracy                         0.6349      3900\n",
            "   macro avg     0.3729    0.3739    0.3718      3900\n",
            "weighted avg     0.6366    0.6349    0.6352      3900\n",
            "\n"
          ]
        }
      ]
    },
    {
      "cell_type": "code",
      "source": [
        "from sklearn.metrics import classification_report, confusion_matrix, ConfusionMatrixDisplay\n",
        "import matplotlib.pyplot as plt\n",
        "\n",
        "def flatten_sequences(sequences):\n",
        "    \"\"\"\n",
        "    Flattens a list of sequences into a single list.\n",
        "\n",
        "    Args:\n",
        "        sequences (list of list of str): List of sequences.\n",
        "\n",
        "    Returns:\n",
        "        flattened (list of str): Flattened sequence.\n",
        "    \"\"\"\n",
        "    return [label for seq in sequences for label in seq]\n",
        "\n",
        "# Flatten actual and predicted labels for comparison\n",
        "y_true = flatten_sequences(test_labels)\n",
        "y_pred = flatten_sequences(decoded_labels)\n",
        "\n",
        "# Adjust the lengths of y_true and y_pred to match\n",
        "min_len = min(len(y_true), len(y_pred))\n",
        "y_true = y_true[:min_len]\n",
        "y_pred = y_pred[:min_len]\n",
        "\n",
        "# Generate classification report\n",
        "print(\"Classification Report:\")\n",
        "print(classification_report(y_true, y_pred, target_names=label_encoder.classes_))\n",
        "\n",
        "# Generate confusion matrix\n",
        "conf_matrix = confusion_matrix(y_true, y_pred, labels=label_encoder.classes_)\n",
        "\n",
        "# Display the confusion matrix\n",
        "print(\"Confusion Matrix:\")\n",
        "print(conf_matrix)\n",
        "\n",
        "# Visualize the confusion matrix\n",
        "disp = ConfusionMatrixDisplay(confusion_matrix=conf_matrix, display_labels=label_encoder.classes_)\n",
        "disp.plot(cmap=plt.cm.Blues, xticks_rotation='vertical')\n",
        "plt.title(\"Confusion Matrix\")\n",
        "plt.show()"
      ],
      "metadata": {
        "colab": {
          "base_uri": "https://localhost:8080/",
          "height": 729
        },
        "id": "V4p1UwiSlaIT",
        "outputId": "36e2b1d1-0e01-47b4-e80d-260598544d0b"
      },
      "execution_count": 82,
      "outputs": [
        {
          "output_type": "stream",
          "name": "stdout",
          "text": [
            "Classification Report:\n",
            "              precision    recall  f1-score   support\n",
            "\n",
            "           B       0.16      0.21      0.18       445\n",
            "           I       0.17      0.13      0.15       482\n",
            "           O       0.78      0.78      0.78      2972\n",
            "\n",
            "    accuracy                           0.63      3899\n",
            "   macro avg       0.37      0.37      0.37      3899\n",
            "weighted avg       0.64      0.63      0.64      3899\n",
            "\n",
            "Confusion Matrix:\n",
            "[[  92   51  302]\n",
            " [  77   64  341]\n",
            " [ 392  261 2319]]\n"
          ]
        },
        {
          "output_type": "display_data",
          "data": {
            "text/plain": [
              "<Figure size 640x480 with 2 Axes>"
            ],
            "image/png": "[encoded data removed]"
          },
          "metadata": {}
        }
      ]
    },
    {
      "cell_type": "code",
      "source": [
        "import pandas as pd\n",
        "from tensorflow.keras.preprocessing.sequence import pad_sequences\n",
        "\n",
        "# Sample sentence to test\n",
        "test_sentence = [\"This\", \"paper\", \"aim\", \"to\", \"solve\", \"machine\", \"translation\", \"Tagging\", \"problem\", \"using\", \"neural\", \"networks\"]\n",
        "\n",
        "# Tokenize the sample sentence\n",
        "token_ids = [tokenizer.word_index.get(token.lower(), 0) for token in test_sentence]  # Use .lower() for case-insensitivity\n",
        "\n",
        "# Pad sequence to the same length as the training data\n",
        "max_len = 30  # Ensure this matches the max token length used in training\n",
        "token_ids_padded = pad_sequences([token_ids], maxlen=max_len, padding=\"post\", truncating=\"post\")\n",
        "\n",
        "print(\"Tokenized and padded unseen data:\", token_ids_padded)\n",
        "\n",
        "# Predict using the trained model\n",
        "predictions = model.predict(token_ids_padded)\n",
        "\n",
        "# Decode predictions to class labels\n",
        "predicted_labels = [label_encoder.inverse_transform([pred.argmax()])[0] for pred in predictions[0]]\n",
        "\n",
        "# Combine original words with their predicted labels\n",
        "word_label_pairs = [(word, label) for word, label in zip(test_sentence, predicted_labels[:len(test_sentence)])]\n",
        "\n",
        "# Print results\n",
        "print(\"\\nOriginal Words with Predicted Labels:\")\n",
        "for word, label in word_label_pairs:\n",
        "    print(f\"{word}: {label}\")"
      ],
      "metadata": {
        "colab": {
          "base_uri": "https://localhost:8080/"
        },
        "id": "ZWmuan2LoMR_",
        "outputId": "5c8b88e6-7d0b-4693-e3a4-1838cc53cda4"
      },
      "execution_count": 84,
      "outputs": [
        {
          "output_type": "stream",
          "name": "stdout",
          "text": [
            "Tokenized and padded unseen data: [[  22  567 1118    8  876  142   42    0  148   87  281    0    0    0\n",
            "     0    0    0    0    0    0    0    0    0    0    0    0    0    0\n",
            "     0    0]]\n",
            "1/1 [==============================] - 0s 60ms/step\n",
            "\n",
            "Original Words with Predicted Labels:\n",
            "This: O\n",
            "paper: O\n",
            "aim: O\n",
            "to: O\n",
            "solve: B\n",
            "machine: I\n",
            "translation: O\n",
            "Tagging: B\n",
            "problem: O\n",
            "using: O\n",
            "neural: O\n",
            "networks: B\n"
          ]
        }
      ]
    },
    {
      "cell_type": "code",
      "source": [],
      "metadata": {
        "id": "iAVuhAUWwi8L"
      },
      "execution_count": null,
      "outputs": []
    }
  ]
}
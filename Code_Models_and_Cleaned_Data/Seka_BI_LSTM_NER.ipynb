{
  "nbformat": 4,
  "nbformat_minor": 0,
  "metadata": {
    "colab": {
      "provenance": []
    },
    "kernelspec": {
      "name": "python3",
      "display_name": "Python 3"
    },
    "language_info": {
      "name": "python"
    }
  },
  "cells": [
    {
      "cell_type": "code",
      "source": [
        "import pandas as pd\n",
        "# Load the data\n",
        "train_data = pd.read_csv(r\"data_train.csv\")\n",
        "dev_data = pd.read_csv(r\"data_dev.csv\")\n",
        "test_data = pd.read_csv(r\"data_test.csv\")"
      ],
      "metadata": {
        "id": "x_sgIlprnijB"
      },
      "execution_count": 31,
      "outputs": []
    },
    {
      "cell_type": "code",
      "source": [
        "train_data.value_counts('label')"
      ],
      "metadata": {
        "colab": {
          "base_uri": "https://localhost:8080/",
          "height": 209
        },
        "id": "IyomHeXUnrLY",
        "outputId": "4113a72e-60ae-4add-d0ce-a57981c9f6ee"
      },
      "execution_count": 32,
      "outputs": [
        {
          "output_type": "execute_result",
          "data": {
            "text/plain": [
              "label\n",
              "O    20084\n",
              "I     3410\n",
              "B     3248\n",
              "Name: count, dtype: int64"
            ],
            "text/html": [
              "<div>\n",
              "<style scoped>\n",
              "    .dataframe tbody tr th:only-of-type {\n",
              "        vertical-align: middle;\n",
              "    }\n",
              "\n",
              "    .dataframe tbody tr th {\n",
              "        vertical-align: top;\n",
              "    }\n",
              "\n",
              "    .dataframe thead th {\n",
              "        text-align: right;\n",
              "    }\n",
              "</style>\n",
              "<table border=\"1\" class=\"dataframe\">\n",
              "  <thead>\n",
              "    <tr style=\"text-align: right;\">\n",
              "      <th></th>\n",
              "      <th>count</th>\n",
              "    </tr>\n",
              "    <tr>\n",
              "      <th>label</th>\n",
              "      <th></th>\n",
              "    </tr>\n",
              "  </thead>\n",
              "  <tbody>\n",
              "    <tr>\n",
              "      <th>O</th>\n",
              "      <td>20084</td>\n",
              "    </tr>\n",
              "    <tr>\n",
              "      <th>I</th>\n",
              "      <td>3410</td>\n",
              "    </tr>\n",
              "    <tr>\n",
              "      <th>B</th>\n",
              "      <td>3248</td>\n",
              "    </tr>\n",
              "  </tbody>\n",
              "</table>\n",
              "</div><br><label><b>dtype:</b> int64</label>"
            ]
          },
          "metadata": {},
          "execution_count": 32
        }
      ]
    },
    {
      "cell_type": "code",
      "source": [
        "dev_data.value_counts('label')"
      ],
      "metadata": {
        "colab": {
          "base_uri": "https://localhost:8080/",
          "height": 209
        },
        "id": "myDf5tU0nzjb",
        "outputId": "bb14b170-5bd5-48e0-c569-0b99bb37c741"
      },
      "execution_count": 33,
      "outputs": [
        {
          "output_type": "execute_result",
          "data": {
            "text/plain": [
              "label\n",
              "O    2499\n",
              "I     399\n",
              "B     394\n",
              "Name: count, dtype: int64"
            ],
            "text/html": [
              "<div>\n",
              "<style scoped>\n",
              "    .dataframe tbody tr th:only-of-type {\n",
              "        vertical-align: middle;\n",
              "    }\n",
              "\n",
              "    .dataframe tbody tr th {\n",
              "        vertical-align: top;\n",
              "    }\n",
              "\n",
              "    .dataframe thead th {\n",
              "        text-align: right;\n",
              "    }\n",
              "</style>\n",
              "<table border=\"1\" class=\"dataframe\">\n",
              "  <thead>\n",
              "    <tr style=\"text-align: right;\">\n",
              "      <th></th>\n",
              "      <th>count</th>\n",
              "    </tr>\n",
              "    <tr>\n",
              "      <th>label</th>\n",
              "      <th></th>\n",
              "    </tr>\n",
              "  </thead>\n",
              "  <tbody>\n",
              "    <tr>\n",
              "      <th>O</th>\n",
              "      <td>2499</td>\n",
              "    </tr>\n",
              "    <tr>\n",
              "      <th>I</th>\n",
              "      <td>399</td>\n",
              "    </tr>\n",
              "    <tr>\n",
              "      <th>B</th>\n",
              "      <td>394</td>\n",
              "    </tr>\n",
              "  </tbody>\n",
              "</table>\n",
              "</div><br><label><b>dtype:</b> int64</label>"
            ]
          },
          "metadata": {},
          "execution_count": 33
        }
      ]
    },
    {
      "cell_type": "code",
      "source": [
        "test_data.value_counts('label')"
      ],
      "metadata": {
        "colab": {
          "base_uri": "https://localhost:8080/",
          "height": 209
        },
        "id": "capslIgKn_j1",
        "outputId": "343dceb4-73db-420d-eefb-c2f13e78a0e9"
      },
      "execution_count": 34,
      "outputs": [
        {
          "output_type": "execute_result",
          "data": {
            "text/plain": [
              "label\n",
              "O    2972\n",
              "I     482\n",
              "B     445\n",
              "Name: count, dtype: int64"
            ],
            "text/html": [
              "<div>\n",
              "<style scoped>\n",
              "    .dataframe tbody tr th:only-of-type {\n",
              "        vertical-align: middle;\n",
              "    }\n",
              "\n",
              "    .dataframe tbody tr th {\n",
              "        vertical-align: top;\n",
              "    }\n",
              "\n",
              "    .dataframe thead th {\n",
              "        text-align: right;\n",
              "    }\n",
              "</style>\n",
              "<table border=\"1\" class=\"dataframe\">\n",
              "  <thead>\n",
              "    <tr style=\"text-align: right;\">\n",
              "      <th></th>\n",
              "      <th>count</th>\n",
              "    </tr>\n",
              "    <tr>\n",
              "      <th>label</th>\n",
              "      <th></th>\n",
              "    </tr>\n",
              "  </thead>\n",
              "  <tbody>\n",
              "    <tr>\n",
              "      <th>O</th>\n",
              "      <td>2972</td>\n",
              "    </tr>\n",
              "    <tr>\n",
              "      <th>I</th>\n",
              "      <td>482</td>\n",
              "    </tr>\n",
              "    <tr>\n",
              "      <th>B</th>\n",
              "      <td>445</td>\n",
              "    </tr>\n",
              "  </tbody>\n",
              "</table>\n",
              "</div><br><label><b>dtype:</b> int64</label>"
            ]
          },
          "metadata": {},
          "execution_count": 34
        }
      ]
    },
    {
      "cell_type": "code",
      "source": [
        "import pandas as pd\n",
        "\n",
        "def calculate_average_length(file_path):\n",
        "    # Load the data\n",
        "    data = pd.read_csv(file_path)\n",
        "\n",
        "    # Ensure columns are present\n",
        "    assert 'token' in data.columns, \"The file must contain a 'token' column.\"\n",
        "    assert 'label' in data.columns, \"The file must contain a 'label' column.\"\n",
        "\n",
        "    # List to store sentence lengths\n",
        "    sentence_lengths = []\n",
        "    current_sentence = []\n",
        "\n",
        "    # Sentence-ending punctuation\n",
        "    sentence_endings = [\".\", \"!\", \"?\"]\n",
        "\n",
        "    for token in data['token']:\n",
        "        current_sentence.append(token)\n",
        "        if token in sentence_endings:\n",
        "            sentence_lengths.append(len(current_sentence))  # Add sentence length\n",
        "            current_sentence = []  # Start a new sentence\n",
        "\n",
        "    # If there's a trailing sentence without an ending punctuation\n",
        "    if current_sentence:\n",
        "        sentence_lengths.append(len(current_sentence))\n",
        "\n",
        "    # Calculate the average length\n",
        "    average_length = sum(sentence_lengths) / len(sentence_lengths) if sentence_lengths else 0\n",
        "    return average_length\n",
        "\n",
        "# Paths to the CSV files\n",
        "train_file = \"data_train.csv\"\n",
        "dev_file = \"data_dev.csv\"\n",
        "test_file = \"data_test.csv\"\n",
        "\n",
        "# Calculate average lengths\n",
        "train_avg_length = calculate_average_length(train_file)\n",
        "dev_avg_length = calculate_average_length(dev_file)\n",
        "test_avg_length = calculate_average_length(test_file)\n",
        "\n",
        "print(f\"Average sentence length in train.csv: {train_avg_length:.2f} tokens\")\n",
        "print(f\"Average sentence length in dev.csv: {dev_avg_length:.2f} tokens\")\n",
        "print(f\"Average sentence length in test.csv: {test_avg_length:.2f} tokens\")\n"
      ],
      "metadata": {
        "colab": {
          "base_uri": "https://localhost:8080/"
        },
        "id": "uUjUwnAXoHBN",
        "outputId": "4e8c5a38-8d5d-4d80-be5a-089a14eddd10"
      },
      "execution_count": 35,
      "outputs": [
        {
          "output_type": "stream",
          "name": "stdout",
          "text": [
            "Average sentence length in train.csv: 28.66 tokens\n",
            "Average sentence length in dev.csv: 27.90 tokens\n",
            "Average sentence length in test.csv: 28.88 tokens\n"
          ]
        }
      ]
    },
    {
      "cell_type": "code",
      "source": [
        "import pandas as pd\n",
        "\n",
        "def prepare_data_with_token_limit(df, max_tokens):\n",
        "    \"\"\"\n",
        "    Groups tokens and labels into sentences with a maximum token limit,\n",
        "    ensuring no sentence ends with an incomplete entity.\n",
        "\n",
        "    Args:\n",
        "        df (pd.DataFrame): Dataframe with columns 'token', 'label', and 'token length'.\n",
        "        max_tokens (int): Maximum number of tokens allowed in a sentence.\n",
        "\n",
        "    Returns:\n",
        "        sentences (list of list of str): List of tokenized sentences.\n",
        "        labels (list of list of str): List of BIO-tagged label sequences.\n",
        "    \"\"\"\n",
        "    sentences = []\n",
        "    labels = []\n",
        "    current_sentence = []\n",
        "    current_labels = []\n",
        "\n",
        "    for i, row in df.iterrows():\n",
        "        token, label = row[\"token\"], row[\"label\"]\n",
        "\n",
        "        # Add token and label to the current sentence\n",
        "        current_sentence.append(token)\n",
        "        current_labels.append(label)\n",
        "\n",
        "        # Check if we reached the max token limit or it's the last token\n",
        "        if len(current_sentence) >= max_tokens or i == len(df) - 1:\n",
        "            # Check if the last token ends with 'B' or 'I' and it's not the last token in the dataframe\n",
        "            if (label.startswith(\"I\") or label.startswith(\"B\")) and i < len(df) - 1:\n",
        "                # Add the next token to complete the entity (if available)\n",
        "                next_row = df.iloc[i + 1]\n",
        "                # Only add the next token if it doesn't exceed the max_tokens limit\n",
        "                if len(current_sentence) + 1 <= max_tokens:\n",
        "                    current_sentence.append(next_row[\"token\"])\n",
        "                    current_labels.append(next_row[\"label\"])\n",
        "\n",
        "            # Save the current sentence and reset\n",
        "            sentences.append(current_sentence)\n",
        "            labels.append(current_labels)\n",
        "            current_sentence = []\n",
        "            current_labels = []\n",
        "\n",
        "    return sentences, labels"
      ],
      "metadata": {
        "id": "zbp3s-YuoNer"
      },
      "execution_count": 46,
      "outputs": []
    },
    {
      "cell_type": "code",
      "source": [
        "from sklearn.preprocessing import LabelEncoder\n",
        "from tensorflow.keras.preprocessing.text import Tokenizer\n",
        "from tensorflow.keras.utils import pad_sequences, to_categorical\n",
        "\n",
        "def encode_data(sentences, labels, max_tokens):\n",
        "    \"\"\"\n",
        "    Encode tokens and labels for Bi-LSTM processing.\n",
        "\n",
        "    Args:\n",
        "        sentences (list of list of str): Tokenized sentences.\n",
        "        labels (list of list of str): BIO-tagged label sequences.\n",
        "        max_tokens (int): Maximum number of tokens per sequence.\n",
        "\n",
        "    Returns:\n",
        "        X (np.array): Encoded sentences (padded sequences of integers).\n",
        "        y (np.array): Encoded labels (padded sequences of integers).\n",
        "    \"\"\"\n",
        "    # Tokenizer for converting words to integers\n",
        "    tokenizer = Tokenizer(lower=False, oov_token=\"<OOV>\")\n",
        "    tokenizer.fit_on_texts(sentences)\n",
        "    X = tokenizer.texts_to_sequences(sentences)\n",
        "    X = pad_sequences(X, maxlen=max_tokens, padding=\"post\", truncating=\"post\")\n",
        "\n",
        "    # Label encoding for BIO labels\n",
        "    label_encoder = LabelEncoder()\n",
        "    all_labels = [label for seq in labels for label in seq]\n",
        "    label_encoder.fit(all_labels)\n",
        "\n",
        "    y = [[label_encoder.transform([label])[0] for label in seq] for seq in labels]\n",
        "    y = pad_sequences(y, maxlen=max_tokens, padding=\"post\", truncating=\"post\")\n",
        "    y = to_categorical(y, num_classes=len(label_encoder.classes_))\n",
        "\n",
        "    return X, y, tokenizer, label_encoder\n",
        "\n",
        "# Encode the data\n",
        "X_train, y_train, tokenizer, label_encoder = encode_data(train_sentences, train_labels, max_tokens)\n"
      ],
      "metadata": {
        "id": "J4mrfoUUuGID"
      },
      "execution_count": 49,
      "outputs": []
    },
    {
      "cell_type": "code",
      "source": [
        "# Load your dev data\n",
        "dev_data = pd.read_csv(\"data_dev.csv\")\n",
        "\n",
        "# Define max tokens\n",
        "max_tokens = 30\n",
        "\n",
        "# Prepare dev sentences and labels\n",
        "dev_sentences, dev_labels = prepare_data_with_token_limit(dev_data, max_tokens)\n",
        "\n",
        "# Encode the data\n",
        "X_dev, y_dev, tokenizer, label_encoder = encode_data(dev_sentences, dev_labels, max_tokens)\n",
        "\n",
        "# Display shapes\n",
        "print(\"Shape of X_dev:\", X_dev.shape)\n",
        "print(\"Shape of y_dev:\", y_dev.shape)"
      ],
      "metadata": {
        "colab": {
          "base_uri": "https://localhost:8080/"
        },
        "id": "KqCWpex6kBn0",
        "outputId": "89627575-c51b-4c42-ea43-fe15bb8a3583"
      },
      "execution_count": 50,
      "outputs": [
        {
          "output_type": "stream",
          "name": "stdout",
          "text": [
            "Shape of X_dev: (110, 30)\n",
            "Shape of y_dev: (110, 30, 3)\n"
          ]
        }
      ]
    },
    {
      "cell_type": "code",
      "source": [
        "# Load your dev data\n",
        "dev_data = pd.read_csv(\"data_train.csv\")\n",
        "\n",
        "# Define max tokens\n",
        "max_tokens = 30\n",
        "\n",
        "# Prepare dev sentences and labels\n",
        "dev_sentences, dev_labels = prepare_data_with_token_limit(dev_data, max_tokens)\n",
        "\n",
        "# Encode the data\n",
        "X_dev, y_dev, tokenizer, label_encoder = encode_data(dev_sentences, dev_labels, max_tokens)\n",
        "\n",
        "# Display shapes\n",
        "print(\"Shape of X_dev:\", X_dev.shape)\n",
        "print(\"Shape of y_dev:\", y_dev.shape)"
      ],
      "metadata": {
        "colab": {
          "base_uri": "https://localhost:8080/"
        },
        "id": "hvENeKXOlYUQ",
        "outputId": "f44444b4-1699-4ef4-84fa-cd892f527976"
      },
      "execution_count": 51,
      "outputs": [
        {
          "output_type": "stream",
          "name": "stdout",
          "text": [
            "Shape of X_dev: (892, 30)\n",
            "Shape of y_dev: (892, 30, 3)\n"
          ]
        }
      ]
    },
    {
      "cell_type": "code",
      "source": [
        "from tensorflow.keras.models import Sequential\n",
        "from tensorflow.keras.layers import Embedding, Bidirectional, LSTM, Dense, TimeDistributed, Dropout\n",
        "from tensorflow.keras.optimizers import Adam\n",
        "\n",
        "def build_bilstm_model(vocab_size, num_classes, max_tokens, embedding_dim=128, lstm_units=128):\n",
        "    \"\"\"\n",
        "    Build a Bi-LSTM model for NER.\n",
        "\n",
        "    Args:\n",
        "        vocab_size (int): Size of the vocabulary.\n",
        "        num_classes (int): Number of output classes (BIO tags).\n",
        "        max_tokens (int): Maximum sequence length.\n",
        "        embedding_dim (int): Dimension of the embedding layer.\n",
        "        lstm_units (int): Number of LSTM units.\n",
        "\n",
        "    Returns:\n",
        "        model (keras.Model): Compiled Bi-LSTM model.\n",
        "    \"\"\"\n",
        "    model = Sequential()\n",
        "    model.add(Embedding(input_dim=vocab_size, output_dim=embedding_dim, input_length=max_tokens))\n",
        "    model.add(Bidirectional(LSTM(units=lstm_units, return_sequences=True)))\n",
        "    model.add(TimeDistributed(Dense(units=num_classes, activation=\"softmax\")))\n",
        "\n",
        "    model.compile(optimizer=Adam(learning_rate=0.001), loss=\"categorical_crossentropy\", metrics=[\"accuracy\"])\n",
        "    return model\n",
        "\n",
        "# Build and compile the model\n",
        "vocab_size = len(tokenizer.word_index) + 1\n",
        "num_classes = y_train.shape[2]  # Number of BIO classes\n",
        "model = build_bilstm_model(vocab_size, num_classes, max_tokens)\n",
        "\n",
        "# Display model summary\n",
        "model.summary()\n"
      ],
      "metadata": {
        "colab": {
          "base_uri": "https://localhost:8080/",
          "height": 280
        },
        "id": "SCkTA73fulva",
        "outputId": "14883497-f8a0-4c94-b019-68e7211922ef"
      },
      "execution_count": 52,
      "outputs": [
        {
          "output_type": "stream",
          "name": "stderr",
          "text": [
            "/usr/local/lib/python3.10/dist-packages/keras/src/layers/core/embedding.py:90: UserWarning: Argument `input_length` is deprecated. Just remove it.\n",
            "  warnings.warn(\n"
          ]
        },
        {
          "output_type": "display_data",
          "data": {
            "text/plain": [
              "\u001b[1mModel: \"sequential_4\"\u001b[0m\n"
            ],
            "text/html": [
              "<pre style=\"white-space:pre;overflow-x:auto;line-height:normal;font-family:Menlo,'DejaVu Sans Mono',consolas,'Courier New',monospace\"><span style=\"font-weight: bold\">Model: \"sequential_4\"</span>\n",
              "</pre>\n"
            ]
          },
          "metadata": {}
        },
        {
          "output_type": "display_data",
          "data": {
            "text/plain": [
              "┏━━━━━━━━━━━━━━━━━━━━━━━━━━━━━━━━━━━━━━┳━━━━━━━━━━━━━━━━━━━━━━━━━━━━━┳━━━━━━━━━━━━━━━━━┓\n",
              "┃\u001b[1m \u001b[0m\u001b[1mLayer (type)                        \u001b[0m\u001b[1m \u001b[0m┃\u001b[1m \u001b[0m\u001b[1mOutput Shape               \u001b[0m\u001b[1m \u001b[0m┃\u001b[1m \u001b[0m\u001b[1m        Param #\u001b[0m\u001b[1m \u001b[0m┃\n",
              "┡━━━━━━━━━━━━━━━━━━━━━━━━━━━━━━━━━━━━━━╇━━━━━━━━━━━━━━━━━━━━━━━━━━━━━╇━━━━━━━━━━━━━━━━━┩\n",
              "│ embedding_4 (\u001b[38;5;33mEmbedding\u001b[0m)              │ ?                           │     \u001b[38;5;34m0\u001b[0m (unbuilt) │\n",
              "├──────────────────────────────────────┼─────────────────────────────┼─────────────────┤\n",
              "│ bidirectional_4 (\u001b[38;5;33mBidirectional\u001b[0m)      │ ?                           │     \u001b[38;5;34m0\u001b[0m (unbuilt) │\n",
              "├──────────────────────────────────────┼─────────────────────────────┼─────────────────┤\n",
              "│ time_distributed_4 (\u001b[38;5;33mTimeDistributed\u001b[0m) │ ?                           │     \u001b[38;5;34m0\u001b[0m (unbuilt) │\n",
              "└──────────────────────────────────────┴─────────────────────────────┴─────────────────┘\n"
            ],
            "text/html": [
              "<pre style=\"white-space:pre;overflow-x:auto;line-height:normal;font-family:Menlo,'DejaVu Sans Mono',consolas,'Courier New',monospace\">┏━━━━━━━━━━━━━━━━━━━━━━━━━━━━━━━━━━━━━━┳━━━━━━━━━━━━━━━━━━━━━━━━━━━━━┳━━━━━━━━━━━━━━━━━┓\n",
              "┃<span style=\"font-weight: bold\"> Layer (type)                         </span>┃<span style=\"font-weight: bold\"> Output Shape                </span>┃<span style=\"font-weight: bold\">         Param # </span>┃\n",
              "┡━━━━━━━━━━━━━━━━━━━━━━━━━━━━━━━━━━━━━━╇━━━━━━━━━━━━━━━━━━━━━━━━━━━━━╇━━━━━━━━━━━━━━━━━┩\n",
              "│ embedding_4 (<span style=\"color: #0087ff; text-decoration-color: #0087ff\">Embedding</span>)              │ ?                           │     <span style=\"color: #00af00; text-decoration-color: #00af00\">0</span> (unbuilt) │\n",
              "├──────────────────────────────────────┼─────────────────────────────┼─────────────────┤\n",
              "│ bidirectional_4 (<span style=\"color: #0087ff; text-decoration-color: #0087ff\">Bidirectional</span>)      │ ?                           │     <span style=\"color: #00af00; text-decoration-color: #00af00\">0</span> (unbuilt) │\n",
              "├──────────────────────────────────────┼─────────────────────────────┼─────────────────┤\n",
              "│ time_distributed_4 (<span style=\"color: #0087ff; text-decoration-color: #0087ff\">TimeDistributed</span>) │ ?                           │     <span style=\"color: #00af00; text-decoration-color: #00af00\">0</span> (unbuilt) │\n",
              "└──────────────────────────────────────┴─────────────────────────────┴─────────────────┘\n",
              "</pre>\n"
            ]
          },
          "metadata": {}
        },
        {
          "output_type": "display_data",
          "data": {
            "text/plain": [
              "\u001b[1m Total params: \u001b[0m\u001b[38;5;34m0\u001b[0m (0.00 B)\n"
            ],
            "text/html": [
              "<pre style=\"white-space:pre;overflow-x:auto;line-height:normal;font-family:Menlo,'DejaVu Sans Mono',consolas,'Courier New',monospace\"><span style=\"font-weight: bold\"> Total params: </span><span style=\"color: #00af00; text-decoration-color: #00af00\">0</span> (0.00 B)\n",
              "</pre>\n"
            ]
          },
          "metadata": {}
        },
        {
          "output_type": "display_data",
          "data": {
            "text/plain": [
              "\u001b[1m Trainable params: \u001b[0m\u001b[38;5;34m0\u001b[0m (0.00 B)\n"
            ],
            "text/html": [
              "<pre style=\"white-space:pre;overflow-x:auto;line-height:normal;font-family:Menlo,'DejaVu Sans Mono',consolas,'Courier New',monospace\"><span style=\"font-weight: bold\"> Trainable params: </span><span style=\"color: #00af00; text-decoration-color: #00af00\">0</span> (0.00 B)\n",
              "</pre>\n"
            ]
          },
          "metadata": {}
        },
        {
          "output_type": "display_data",
          "data": {
            "text/plain": [
              "\u001b[1m Non-trainable params: \u001b[0m\u001b[38;5;34m0\u001b[0m (0.00 B)\n"
            ],
            "text/html": [
              "<pre style=\"white-space:pre;overflow-x:auto;line-height:normal;font-family:Menlo,'DejaVu Sans Mono',consolas,'Courier New',monospace\"><span style=\"font-weight: bold\"> Non-trainable params: </span><span style=\"color: #00af00; text-decoration-color: #00af00\">0</span> (0.00 B)\n",
              "</pre>\n"
            ]
          },
          "metadata": {}
        }
      ]
    },
    {
      "cell_type": "code",
      "source": [
        "# Train the Bi-LSTM model\n",
        "history = model.fit(\n",
        "    x=X_train,\n",
        "    y=y_train,\n",
        "    validation_data=(X_dev, y_dev),\n",
        "    batch_size=16,\n",
        "    epochs=10\n",
        ")\n"
      ],
      "metadata": {
        "colab": {
          "base_uri": "https://localhost:8080/"
        },
        "id": "i0S0idc3uJ1b",
        "outputId": "6dfb9e4d-fa23-4fc5-c769-3065eb163208"
      },
      "execution_count": 53,
      "outputs": [
        {
          "output_type": "stream",
          "name": "stdout",
          "text": [
            "Epoch 1/10\n",
            "\u001b[1m56/56\u001b[0m \u001b[32m━━━━━━━━━━━━━━━━━━━━\u001b[0m\u001b[37m\u001b[0m \u001b[1m12s\u001b[0m 110ms/step - accuracy: 0.7253 - loss: 0.8360 - val_accuracy: 0.7679 - val_loss: 0.5694\n",
            "Epoch 2/10\n",
            "\u001b[1m56/56\u001b[0m \u001b[32m━━━━━━━━━━━━━━━━━━━━\u001b[0m\u001b[37m\u001b[0m \u001b[1m7s\u001b[0m 119ms/step - accuracy: 0.7920 - loss: 0.4984 - val_accuracy: 0.8840 - val_loss: 0.3099\n",
            "Epoch 3/10\n",
            "\u001b[1m56/56\u001b[0m \u001b[32m━━━━━━━━━━━━━━━━━━━━\u001b[0m\u001b[37m\u001b[0m \u001b[1m5s\u001b[0m 96ms/step - accuracy: 0.8918 - loss: 0.2930 - val_accuracy: 0.9183 - val_loss: 0.2252\n",
            "Epoch 4/10\n",
            "\u001b[1m56/56\u001b[0m \u001b[32m━━━━━━━━━━━━━━━━━━━━\u001b[0m\u001b[37m\u001b[0m \u001b[1m10s\u001b[0m 85ms/step - accuracy: 0.9164 - loss: 0.2249 - val_accuracy: 0.9263 - val_loss: 0.1945\n",
            "Epoch 5/10\n",
            "\u001b[1m56/56\u001b[0m \u001b[32m━━━━━━━━━━━━━━━━━━━━\u001b[0m\u001b[37m\u001b[0m \u001b[1m6s\u001b[0m 100ms/step - accuracy: 0.9229 - loss: 0.1999 - val_accuracy: 0.9343 - val_loss: 0.1722\n",
            "Epoch 6/10\n",
            "\u001b[1m56/56\u001b[0m \u001b[32m━━━━━━━━━━━━━━━━━━━━\u001b[0m\u001b[37m\u001b[0m \u001b[1m9s\u001b[0m 86ms/step - accuracy: 0.9304 - loss: 0.1802 - val_accuracy: 0.9393 - val_loss: 0.1568\n",
            "Epoch 7/10\n",
            "\u001b[1m56/56\u001b[0m \u001b[32m━━━━━━━━━━━━━━━━━━━━\u001b[0m\u001b[37m\u001b[0m \u001b[1m7s\u001b[0m 122ms/step - accuracy: 0.9371 - loss: 0.1614 - val_accuracy: 0.9516 - val_loss: 0.1307\n",
            "Epoch 8/10\n",
            "\u001b[1m56/56\u001b[0m \u001b[32m━━━━━━━━━━━━━━━━━━━━\u001b[0m\u001b[37m\u001b[0m \u001b[1m8s\u001b[0m 85ms/step - accuracy: 0.9505 - loss: 0.1311 - val_accuracy: 0.9620 - val_loss: 0.1063\n",
            "Epoch 9/10\n",
            "\u001b[1m56/56\u001b[0m \u001b[32m━━━━━━━━━━━━━━━━━━━━\u001b[0m\u001b[37m\u001b[0m \u001b[1m6s\u001b[0m 111ms/step - accuracy: 0.9609 - loss: 0.1066 - val_accuracy: 0.9731 - val_loss: 0.0810\n",
            "Epoch 10/10\n",
            "\u001b[1m56/56\u001b[0m \u001b[32m━━━━━━━━━━━━━━━━━━━━\u001b[0m\u001b[37m\u001b[0m \u001b[1m5s\u001b[0m 85ms/step - accuracy: 0.9699 - loss: 0.0856 - val_accuracy: 0.9800 - val_loss: 0.0622\n"
          ]
        }
      ]
    },
    {
      "cell_type": "code",
      "source": [
        "# Plot accuracy and loss\n",
        "plt.figure(figsize=(12, 5))\n",
        "\n",
        "# Plot accuracy\n",
        "plt.subplot(1, 2, 1)\n",
        "plt.plot(history.history['accuracy'], label='Training Accuracy')\n",
        "plt.plot(history.history['val_accuracy'], label='Validation Accuracy')\n",
        "plt.title('Model Accuracy')\n",
        "plt.xlabel('Epochs')\n",
        "plt.ylabel('Accuracy')\n",
        "plt.legend()\n",
        "\n",
        "# Plot loss\n",
        "plt.subplot(1, 2, 2)\n",
        "plt.plot(history.history['loss'], label='Training Loss')\n",
        "plt.plot(history.history['val_loss'], label='Validation Loss')\n",
        "plt.title('Model Loss')\n",
        "plt.xlabel('Epochs')\n",
        "plt.ylabel('Loss')\n",
        "plt.legend()\n",
        "\n",
        "plt.show()\n",
        "\n",
        "# Evaluate the model on test data\n",
        "y_pred = model.predict(X_test)\n",
        "y_pred = np.argmax(y_pred, axis=-1)\n",
        "y_test_true = np.squeeze(y_test)"
      ],
      "metadata": {
        "colab": {
          "base_uri": "https://localhost:8080/",
          "height": 474
        },
        "id": "wKgtLt2CoEr9",
        "outputId": "47fa4422-e53f-4ec4-d77c-00c5b64ca20d"
      },
      "execution_count": 68,
      "outputs": [
        {
          "output_type": "display_data",
          "data": {
            "text/plain": [
              "<Figure size 1200x500 with 2 Axes>"
            ],
            "image/png": "[encoded data removed]"
          },
          "metadata": {}
        },
        {
          "output_type": "stream",
          "name": "stdout",
          "text": [
            "\u001b[1m5/5\u001b[0m \u001b[32m━━━━━━━━━━━━━━━━━━━━\u001b[0m\u001b[37m\u001b[0m \u001b[1m0s\u001b[0m 32ms/step\n"
          ]
        }
      ]
    },
    {
      "cell_type": "code",
      "source": [
        "# Save the trained model\n",
        "model.save(\"bilstm_ner_model.h5\")"
      ],
      "metadata": {
        "colab": {
          "base_uri": "https://localhost:8080/"
        },
        "id": "KfrCe6EpuTGM",
        "outputId": "e6741800-370d-48ea-e43e-f62cd14e5248"
      },
      "execution_count": 54,
      "outputs": [
        {
          "output_type": "stream",
          "name": "stderr",
          "text": [
            "WARNING:absl:You are saving your model as an HDF5 file via `model.save()` or `keras.saving.save_model(model)`. This file format is considered legacy. We recommend using instead the native Keras format, e.g. `model.save('my_model.keras')` or `keras.saving.save_model(model, 'my_model.keras')`. \n"
          ]
        }
      ]
    },
    {
      "cell_type": "code",
      "source": [
        "import pandas as pd\n",
        "from tensorflow.keras.models import load_model\n",
        "\n",
        "# Load the trained model\n",
        "loaded_model = load_model(\"bilstm_ner_model.h5\")\n",
        "\n",
        "# Load and preprocess test data\n",
        "test_data = pd.read_csv(\"data_test.csv\")  # Replace with your test file path\n",
        "\n",
        "# Prepare data (assuming prepare_data_with_token_limit is defined)\n",
        "test_sentences, test_labels = prepare_data_with_token_limit(test_data, max_tokens)\n",
        "\n",
        "# Encode test data (assuming encode_data is defined)\n",
        "X_test, y_test, _, _ = encode_data(test_sentences, test_labels, max_tokens)\n",
        "\n",
        "# Evaluate the model\n",
        "loss, accuracy = loaded_model.evaluate(X_test, y_test, batch_size=32)\n",
        "print(f\"Test Loss: {loss:.4f}\")\n",
        "print(f\"Test Accuracy: {accuracy:.4f}\")\n"
      ],
      "metadata": {
        "colab": {
          "base_uri": "https://localhost:8080/"
        },
        "id": "7SVRlo5r6r7S",
        "outputId": "c2bdb59b-c86b-4147-8992-ccfe510d3c66"
      },
      "execution_count": 55,
      "outputs": [
        {
          "output_type": "stream",
          "name": "stderr",
          "text": [
            "WARNING:absl:Compiled the loaded model, but the compiled metrics have yet to be built. `model.compile_metrics` will be empty until you train or evaluate the model.\n"
          ]
        },
        {
          "output_type": "stream",
          "name": "stdout",
          "text": [
            "\u001b[1m5/5\u001b[0m \u001b[32m━━━━━━━━━━━━━━━━━━━━\u001b[0m\u001b[37m\u001b[0m \u001b[1m1s\u001b[0m 26ms/step - accuracy: 0.6698 - loss: 2.2308\n",
            "Test Loss: 2.2750\n",
            "Test Accuracy: 0.6587\n"
          ]
        }
      ]
    },
    {
      "cell_type": "code",
      "source": [
        "import numpy as np\n",
        "\n",
        "def decode_predictions(predictions, label_encoder):\n",
        "    \"\"\"\n",
        "    Decodes predictions from the model to BIO tags.\n",
        "\n",
        "    Args:\n",
        "        predictions (np.array): Predicted probabilities for each token.\n",
        "        label_encoder (LabelEncoder): Label encoder for BIO tags.\n",
        "\n",
        "    Returns:\n",
        "        decoded_labels (list of list of str): Decoded BIO tags for each sequence.\n",
        "    \"\"\"\n",
        "    decoded_labels = []\n",
        "    for sequence in predictions:\n",
        "        predicted_indices = np.argmax(sequence, axis=-1)  # Get the index of the highest probability\n",
        "        decoded_sequence = label_encoder.inverse_transform(predicted_indices)\n",
        "        decoded_labels.append(decoded_sequence)\n",
        "    return decoded_labels\n",
        "\n",
        "# Predict and decode BIO tags\n",
        "predictions = loaded_model.predict(X_test, batch_size=32)\n",
        "decoded_labels = decode_predictions(predictions, label_encoder)\n",
        "\n",
        "# Compare predicted and actual labels for a sample\n",
        "for i in range(3):  # Display 3 examples\n",
        "    print(\"Tokens:\", test_sentences[i])\n",
        "    print(\"Actual:\", test_labels[i])\n",
        "    print(\"Predicted:\", decoded_labels[i])\n",
        "    print()\n"
      ],
      "metadata": {
        "colab": {
          "base_uri": "https://localhost:8080/"
        },
        "id": "5vxQGGg77BNd",
        "outputId": "69408512-c2e9-4135-83b3-7462f95750b0"
      },
      "execution_count": 58,
      "outputs": [
        {
          "output_type": "stream",
          "name": "stdout",
          "text": [
            "\u001b[1m5/5\u001b[0m \u001b[32m━━━━━━━━━━━━━━━━━━━━\u001b[0m\u001b[37m\u001b[0m \u001b[1m0s\u001b[0m 21ms/step\n",
            "Tokens: ['Systems', 'based', 'on', 'synchronous', 'grammars', 'and', 'tree', 'transducers', 'promise', 'to', 'improve', 'the', 'quality', 'of', 'statistical', 'machine', 'translation', 'output', ',', 'but', 'are', 'often', 'very', 'computationally', 'intensive', '.', 'The', 'complexity', 'is', 'exponential']\n",
            "Actual: ['O', 'O', 'O', 'B', 'I', 'O', 'B', 'B', 'O', 'O', 'O', 'O', 'O', 'O', 'B', 'I', 'I', 'I', 'O', 'O', 'O', 'O', 'O', 'B', 'O', 'O', 'O', 'B', 'O', 'B']\n",
            "Predicted: ['O' 'B' 'O' 'B' 'O' 'O' 'B' 'I' 'I' 'O' 'O' 'O' 'O' 'O' 'O' 'O' 'O' 'I'\n",
            " 'O' 'B' 'O' 'O' 'O' 'O' 'O' 'O' 'O' 'O' 'O' 'B']\n",
            "\n",
            "Tokens: ['in', 'the', 'size', 'of', 'individual', 'grammar', 'rules', 'due', 'to', 'arbitrary', 're', 'orderings', 'between', 'the', 'two', 'languages', '.', 'We', 'develop', 'a', 'theory', 'of', 'binarization', 'for', 'synchronous', 'context', 'free', 'grammars', 'and', 'present']\n",
            "Actual: ['O', 'O', 'O', 'O', 'O', 'B', 'I', 'O', 'O', 'B', 'O', 'O', 'O', 'O', 'O', 'O', 'O', 'O', 'O', 'O', 'O', 'O', 'B', 'O', 'B', 'I', 'I', 'I', 'O', 'O']\n",
            "Predicted: ['O' 'O' 'B' 'O' 'O' 'B' 'I' 'I' 'O' 'O' 'B' 'O' 'O' 'O' 'O' 'O' 'O' 'O'\n",
            " 'O' 'O' 'B' 'O' 'O' 'O' 'B' 'I' 'I' 'I' 'O' 'O']\n",
            "\n",
            "Tokens: ['a', 'linear', 'time', 'algorithm', 'for', 'binarizing', 'synchronous', 'rules', 'when', 'possible', '.', 'In', 'our', 'large', 'scale', 'experiments', ',', 'we', 'found', 'that', 'almost', 'all', 'rules', 'are', 'binarizable', 'and', 'the', 'resulting', 'binarized', 'rule']\n",
            "Actual: ['O', 'B', 'I', 'I', 'O', 'B', 'B', 'I', 'O', 'O', 'O', 'O', 'O', 'O', 'O', 'O', 'O', 'O', 'O', 'O', 'O', 'O', 'O', 'O', 'B', 'O', 'O', 'O', 'B', 'I']\n",
            "Predicted: ['O' 'O' 'O' 'O' 'O' 'B' 'O' 'I' 'B' 'O' 'O' 'O' 'O' 'O' 'B' 'O' 'O' 'O'\n",
            " 'B' 'O' 'B' 'O' 'O' 'O' 'O' 'O' 'O' 'O' 'O' 'O']\n",
            "\n"
          ]
        }
      ]
    },
    {
      "cell_type": "code",
      "source": [
        "# for i, (true_seq, pred_seq) in enumerate(zip(test_labels, decoded_labels)):\n",
        "#     if len(true_seq) != len(pred_seq):\n",
        "#         print(f\"Mismatch at index {i}:\")\n",
        "#         print(f\"True labels: {true_seq}\")\n",
        "#         print(f\"Predicted labels: {pred_seq}\")\n",
        "#         break\n",
        "\n"
      ],
      "metadata": {
        "id": "gWkUBG5o8ZNE"
      },
      "execution_count": 59,
      "outputs": []
    },
    {
      "cell_type": "code",
      "source": [
        "# if len(y_pred) > len(y_true):\n",
        "#     y_pred = y_pred[:len(y_true)]"
      ],
      "metadata": {
        "id": "jbuRVf6C8V_3"
      },
      "execution_count": 60,
      "outputs": []
    },
    {
      "cell_type": "code",
      "source": [
        "# decoded_labels = [pred[:len(true)] for true, pred in zip(test_labels, decoded_labels)]\n"
      ],
      "metadata": {
        "id": "JpJ3Ccxx8Y0E"
      },
      "execution_count": 61,
      "outputs": []
    },
    {
      "cell_type": "code",
      "source": [
        "from sklearn.metrics import classification_report, confusion_matrix, ConfusionMatrixDisplay\n",
        "import matplotlib.pyplot as plt\n",
        "\n",
        "def flatten_sequences(sequences):\n",
        "    \"\"\"\n",
        "    Flattens a list of sequences into a single list.\n",
        "\n",
        "    Args:\n",
        "        sequences (list of list of str): List of sequences.\n",
        "\n",
        "    Returns:\n",
        "        flattened (list of str): Flattened sequence.\n",
        "    \"\"\"\n",
        "    return [label for seq in sequences for label in seq]\n",
        "\n",
        "# Flatten actual and predicted labels for comparison\n",
        "y_true = flatten_sequences(test_labels)\n",
        "y_pred = flatten_sequences(decoded_labels)\n",
        "\n",
        "# Adjust the lengths of y_true and y_pred to match\n",
        "min_len = min(len(y_true), len(y_pred))\n",
        "y_true = y_true[:min_len]\n",
        "y_pred = y_pred[:min_len]\n",
        "\n",
        "# Generate classification report\n",
        "print(\"Classification Report:\")\n",
        "print(classification_report(y_true, y_pred, target_names=label_encoder.classes_))\n",
        "\n",
        "# Generate confusion matrix\n",
        "conf_matrix = confusion_matrix(y_true, y_pred, labels=label_encoder.classes_)\n",
        "\n",
        "# Display the confusion matrix\n",
        "print(\"Confusion Matrix:\")\n",
        "print(conf_matrix)\n",
        "\n",
        "# Visualize the confusion matrix\n",
        "disp = ConfusionMatrixDisplay(confusion_matrix=conf_matrix, display_labels=label_encoder.classes_)\n",
        "disp.plot(cmap=plt.cm.Blues, xticks_rotation='vertical')  # You can adjust rotation for readability\n",
        "plt.title(\"Confusion Matrix\")\n",
        "plt.show()"
      ],
      "metadata": {
        "colab": {
          "base_uri": "https://localhost:8080/",
          "height": 729
        },
        "id": "VMBgqM6V7FQC",
        "outputId": "9cce7bb8-e8cb-4bf2-c7d3-2a3419fb3fe7"
      },
      "execution_count": 63,
      "outputs": [
        {
          "output_type": "stream",
          "name": "stdout",
          "text": [
            "Classification Report:\n",
            "              precision    recall  f1-score   support\n",
            "\n",
            "           B       0.17      0.19      0.18       445\n",
            "           I       0.22      0.15      0.18       482\n",
            "           O       0.79      0.81      0.80      2972\n",
            "\n",
            "    accuracy                           0.66      3899\n",
            "   macro avg       0.39      0.38      0.39      3899\n",
            "weighted avg       0.65      0.66      0.65      3899\n",
            "\n",
            "Confusion Matrix:\n",
            "[[  83   56  306]\n",
            " [  61   74  347]\n",
            " [ 350  211 2411]]\n"
          ]
        },
        {
          "output_type": "display_data",
          "data": {
            "text/plain": [
              "<Figure size 640x480 with 2 Axes>"
            ],
            "image/png": "[encoded data removed]"
          },
          "metadata": {}
        }
      ]
    },
    {
      "cell_type": "code",
      "source": [
        "import matplotlib.pyplot as plt\n",
        "\n",
        "def plot_training_history(history):\n",
        "    \"\"\"\n",
        "    Plots training and validation accuracy/loss.\n",
        "\n",
        "    Args:\n",
        "        history (History): Training history object.\n",
        "    \"\"\"\n",
        "    # Plot accuracy\n",
        "    plt.figure(figsize=(12, 4))\n",
        "    plt.subplot(1, 2, 1)\n",
        "    plt.plot(history.history['accuracy'], label='Train Accuracy')\n",
        "    plt.plot(history.history['val_accuracy'], label='Validation Accuracy')\n",
        "    plt.title('Accuracy')\n",
        "    plt.xlabel('Epoch')\n",
        "    plt.ylabel('Accuracy')\n",
        "    plt.legend()\n",
        "\n",
        "    # Plot loss\n",
        "    plt.subplot(1, 2, 2)\n",
        "    plt.plot(history.history['loss'], label='Train Loss')\n",
        "    plt.plot(history.history['val_loss'], label='Validation Loss')\n",
        "    plt.title('Loss')\n",
        "    plt.xlabel('Epoch')\n",
        "    plt.ylabel('Loss')\n",
        "    plt.legend()\n",
        "\n",
        "    plt.show()\n",
        "\n",
        "# Call the function to plot\n",
        "plot_training_history(history)\n"
      ],
      "metadata": {
        "colab": {
          "base_uri": "https://localhost:8080/",
          "height": 384
        },
        "id": "56Oj28wa7KpX",
        "outputId": "27a04ffd-504c-4894-963c-f84bf29fd0a1"
      },
      "execution_count": 64,
      "outputs": [
        {
          "output_type": "display_data",
          "data": {
            "text/plain": [
              "<Figure size 1200x400 with 2 Axes>"
            ],
            "image/png": "[encoded data removed]"
          },
          "metadata": {}
        }
      ]
    },
    {
      "cell_type": "code",
      "source": [
        "import pandas as pd\n",
        "from tensorflow.keras.preprocessing.sequence import pad_sequences\n",
        "\n",
        "# Sample sentence to test\n",
        "test_sentence = [\"This\", \"paper\", \"aim\", \"to\", \"solve\", \"machine\", \"translation\", \"Tagging\", \"problem\", \"using\", \"neural\", \"networks\"]\n",
        "\n",
        "# Tokenize the sample sentence\n",
        "token_ids = [tokenizer.word_index.get(token.lower(), 0) for token in test_sentence]  # Use .lower() for case-insensitivity\n",
        "\n",
        "# Pad sequence to the same length as the training data\n",
        "max_len = 30  # Ensure this matches the max token length used in training\n",
        "token_ids_padded = pad_sequences([token_ids], maxlen=max_len, padding=\"post\", truncating=\"post\")\n",
        "\n",
        "print(\"Tokenized and padded unseen data:\", token_ids_padded)\n",
        "\n",
        "# Predict using the trained model\n",
        "predictions = model.predict(token_ids_padded)\n",
        "\n",
        "# Decode predictions to class labels\n",
        "predicted_labels = [label_encoder.inverse_transform([pred.argmax()])[0] for pred in predictions[0]]\n",
        "\n",
        "# Combine original words with their predicted labels\n",
        "word_label_pairs = [(word, label) for word, label in zip(test_sentence, predicted_labels[:len(test_sentence)])]\n",
        "\n",
        "# Print results\n",
        "print(\"\\nOriginal Words with Predicted Labels:\")\n",
        "for word, label in word_label_pairs:\n",
        "    print(f\"{word}: {label}\")\n"
      ],
      "metadata": {
        "colab": {
          "base_uri": "https://localhost:8080/"
        },
        "id": "1CTw6pft9BJt",
        "outputId": "a8e3106f-511b-4b6e-ba07-81b800083c9c"
      },
      "execution_count": 70,
      "outputs": [
        {
          "output_type": "stream",
          "name": "stdout",
          "text": [
            "Tokenized and padded unseen data: [[  22 1699 1820    8  622   81   29  435  113   44  181  718    0    0\n",
            "     0    0    0    0    0    0    0    0    0    0    0    0    0    0\n",
            "     0    0]]\n",
            "\u001b[1m1/1\u001b[0m \u001b[32m━━━━━━━━━━━━━━━━━━━━\u001b[0m\u001b[37m\u001b[0m \u001b[1m0s\u001b[0m 83ms/step\n",
            "\n",
            "Original Words with Predicted Labels:\n",
            "This: O\n",
            "paper: B\n",
            "aim: O\n",
            "to: O\n",
            "solve: O\n",
            "machine: B\n",
            "translation: I\n",
            "Tagging: I\n",
            "problem: I\n",
            "using: O\n",
            "neural: B\n",
            "networks: I\n"
          ]
        }
      ]
    },
    {
      "cell_type": "code",
      "source": [
        "import pandas as pd\n",
        "from tensorflow.keras.preprocessing.sequence import pad_sequences\n",
        "\n",
        "# Function to predict labels for a given sentence\n",
        "def test_sentence_prediction(sentence, tokenizer, model, label_encoder, max_len=30):\n",
        "    \"\"\"\n",
        "    Predicts labels for a given sentence using a trained NER model.\n",
        "\n",
        "    Args:\n",
        "        sentence (str): Input sentence to test.\n",
        "        tokenizer: Tokenizer object used in training.\n",
        "        model: Trained NER model.\n",
        "        label_encoder: Label encoder used for BIO-tag encoding/decoding.\n",
        "        max_len (int): Maximum length for padding sequences.\n",
        "\n",
        "    Returns:\n",
        "        word_label_pairs (list of tuples): List of word-label pairs.\n",
        "    \"\"\"\n",
        "    # Tokenize the input sentence\n",
        "    words = sentence.split()\n",
        "    token_ids = [tokenizer.word_index.get(token.lower(), 0) for token in words]  # Use .lower() for case-insensitivity\n",
        "\n",
        "    # Pad the sequence\n",
        "    token_ids_padded = pad_sequences([token_ids], maxlen=max_len, padding=\"post\", truncating=\"post\")\n",
        "\n",
        "    # Predict using the trained model\n",
        "    predictions = model.predict(token_ids_padded)\n",
        "\n",
        "    # Decode predictions to class labels\n",
        "    predicted_labels = [label_encoder.inverse_transform([pred.argmax()])[0] for pred in predictions[0]]\n",
        "\n",
        "    # Combine original words with their predicted labels\n",
        "    word_label_pairs = [(word, label) for word, label in zip(words, predicted_labels[:len(words)])]\n",
        "\n",
        "    return word_label_pairs\n",
        "\n",
        "# Test with your sentence\n",
        "test_sentence = \"This paper aims to solve machine translation tagging problem using neural networks.\"\n",
        "word_label_pairs = test_sentence_prediction(test_sentence, tokenizer, model, label_encoder)\n",
        "\n",
        "# Print the results\n",
        "print(\"\\nOriginal Words with Predicted Labels:\")\n",
        "for word, label in word_label_pairs:\n",
        "    print(f\"{word}: {label}\")\n"
      ],
      "metadata": {
        "colab": {
          "base_uri": "https://localhost:8080/"
        },
        "id": "wv7P1H_wADrn",
        "outputId": "ff397e14-5b56-47d6-8c3e-20e86a1e0a30"
      },
      "execution_count": 71,
      "outputs": [
        {
          "output_type": "stream",
          "name": "stdout",
          "text": [
            "\u001b[1m1/1\u001b[0m \u001b[32m━━━━━━━━━━━━━━━━━━━━\u001b[0m\u001b[37m\u001b[0m \u001b[1m0s\u001b[0m 65ms/step\n",
            "\n",
            "Original Words with Predicted Labels:\n",
            "This: O\n",
            "paper: O\n",
            "aims: O\n",
            "to: O\n",
            "solve: O\n",
            "machine: B\n",
            "translation: I\n",
            "tagging: I\n",
            "problem: I\n",
            "using: O\n",
            "neural: B\n",
            "networks.: B\n"
          ]
        }
      ]
    },
    {
      "cell_type": "code",
      "source": [
        "import pandas as pd\n",
        "from tensorflow.keras.preprocessing.sequence import pad_sequences\n",
        "\n",
        "# Function to predict labels for a given sentence\n",
        "def test_sentence_prediction(sentence, tokenizer, model, label_encoder, max_len=30):\n",
        "    \"\"\"\n",
        "    Predicts labels for a given sentence using a trained NER model.\n",
        "\n",
        "    Args:\n",
        "        sentence (str): Input sentence to test.\n",
        "        tokenizer: Tokenizer object used in training.\n",
        "        model: Trained NER model.\n",
        "        label_encoder: Label encoder used for BIO-tag encoding/decoding.\n",
        "        max_len (int): Maximum length for padding sequences.\n",
        "\n",
        "    Returns:\n",
        "        word_label_pairs (list of tuples): List of word-label pairs.\n",
        "    \"\"\"\n",
        "    # Tokenize the input sentence\n",
        "    words = sentence.split()\n",
        "    token_ids = [tokenizer.word_index.get(token.lower(), 0) for token in words]  # Use .lower() for case-insensitivity\n",
        "\n",
        "    # Pad the sequence\n",
        "    token_ids_padded = pad_sequences([token_ids], maxlen=max_len, padding=\"post\", truncating=\"post\")\n",
        "\n",
        "    # Predict using the trained model\n",
        "    predictions = model.predict(token_ids_padded)\n",
        "\n",
        "    # Decode predictions to class labels\n",
        "    predicted_labels = [label_encoder.inverse_transform([pred.argmax()])[0] for pred in predictions[0]]\n",
        "\n",
        "    # Adjust predictions to enforce the \"B\" followed by \"I\" rule\n",
        "    for i in range(len(predicted_labels) - 1):\n",
        "        if predicted_labels[i].startswith(\"B\") and not predicted_labels[i + 1].startswith(\"I\"):\n",
        "            predicted_labels[i + 1] = \"I\" + predicted_labels[i][1:]\n",
        "\n",
        "    # Combine original words with their predicted labels\n",
        "    word_label_pairs = [(word, label) for word, label in zip(words, predicted_labels[:len(words)])]\n",
        "\n",
        "    return word_label_pairs\n",
        "\n",
        "# Test with your sentence\n",
        "test_sentence = \"This paper aims to solve machine translation tagging problem using neural networks.\"\n",
        "word_label_pairs = test_sentence_prediction(test_sentence, tokenizer, model, label_encoder)\n",
        "\n",
        "# Print the results\n",
        "print(\"\\nOriginal Words with Predicted Labels:\")\n",
        "for word, label in word_label_pairs:\n",
        "    print(f\"{word}: {label}\")\n"
      ],
      "metadata": {
        "id": "tujYkXX1AM49",
        "colab": {
          "base_uri": "https://localhost:8080/"
        },
        "outputId": "26aaf435-e183-43ea-d1c5-5a2a3990bf09"
      },
      "execution_count": 72,
      "outputs": [
        {
          "output_type": "stream",
          "name": "stdout",
          "text": [
            "\u001b[1m1/1\u001b[0m \u001b[32m━━━━━━━━━━━━━━━━━━━━\u001b[0m\u001b[37m\u001b[0m \u001b[1m0s\u001b[0m 103ms/step\n",
            "\n",
            "Original Words with Predicted Labels:\n",
            "This: O\n",
            "paper: O\n",
            "aims: O\n",
            "to: O\n",
            "solve: O\n",
            "machine: B\n",
            "translation: I\n",
            "tagging: I\n",
            "problem: I\n",
            "using: O\n",
            "neural: B\n",
            "networks.: I\n"
          ]
        }
      ]
    },
    {
      "cell_type": "code",
      "source": [],
      "metadata": {
        "id": "adSj6OFYtGnZ"
      },
      "execution_count": null,
      "outputs": []
    }
  ]
}